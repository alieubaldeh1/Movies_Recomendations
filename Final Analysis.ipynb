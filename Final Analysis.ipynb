{
 "cells": [
  {
   "cell_type": "markdown",
   "metadata": {},
   "source": [
    "## Data Collecting (Web Scrappping)"
   ]
  },
  {
   "cell_type": "code",
   "execution_count": 9,
   "metadata": {
    "ExecuteTime": {
     "end_time": "2020-11-13T11:34:17.536474Z",
     "start_time": "2020-11-13T11:31:38.104360Z"
    }
   },
   "outputs": [],
   "source": [
    "#We started by collecting the data we needed through Web scrapping\n",
    "\n",
    "#packages needed\n",
    "import numpy as np\n",
    "import pandas as pd\n",
    "import requests\n",
    "from requests import get\n",
    "from bs4 import BeautifulSoup\n",
    "import json\n",
    "\n",
    "#imported to add more human behavior\n",
    "from time import sleep\n",
    "from random import randint\n",
    "\n",
    "headers = {'Accept-Language': 'en-US,en;q=0.5'}\n",
    "\n",
    "#empty list containers \n",
    "metascores = []\n",
    "gross_total = []\n",
    "years = []\n",
    "titles = []\n",
    "imdb_ratings = []\n",
    "actors = []\n",
    "genres = []\n",
    "directors = []\n",
    "movie_ratings = []\n",
    "votes = []\n",
    "\n",
    "\n",
    "#Setting range\n",
    "pages = np.arange(1, 1001, 50)\n",
    "\n",
    "#Initial for loop to go through webpages set up with time delays\n",
    "for page in pages:\n",
    "    #setting each loop to be the url\n",
    "    page = requests.get(\"https://www.imdb.com/search/title/?groups=top_1000&start=\" + str(page) + \"&ref_=adv_nxt\", headers=headers)\n",
    "    #using soup to parse through each new url\n",
    "    soup = BeautifulSoup(page.text, 'html.parser')\n",
    "    #initial container for each movie\n",
    "    movie_div = soup.find_all('div', class_='lister-item mode-advanced')\n",
    "    #created random intervals of waiting before next url is loaded\n",
    "    sleep(randint(2,10))\n",
    "    #loops through each container in each page\n",
    "    for cont in movie_div:\n",
    "        #setting each variable to push into the empty list\n",
    "        movie_title = cont.h3.a.text\n",
    "        titles.append(movie_title)\n",
    "        \n",
    "        movie_year = cont.h3.find('span', class_='lister-item-year').text\n",
    "        years.append(movie_year)\n",
    "        \n",
    "        movie_rating = cont.p.find('span', class_='certificate').text if cont.p.find('span', class_='certificate') else  ''\n",
    "        movie_ratings.append(movie_rating)\n",
    "        \n",
    "        movie_genre = cont.p.find('span', class_='genre').text if cont.p.find('span', class_='genre') else ''\n",
    "        genres.append(movie_genre)\n",
    "        \n",
    "        imdb_rating = float(cont.strong.text)\n",
    "        imdb_ratings.append(imdb_rating)\n",
    "        \n",
    "        metascore = cont.find('span', class_= 'metascore').text if cont.find('span', class_='metascore') else ''\n",
    "        metascores.append(metascore)\n",
    "        \n",
    "        cast_and_crew = cont.findAll('p', class_='')[0].findAll('a')\n",
    "        directors.append((cast_and_crew[0]).text)\n",
    "        \n",
    "        val = cont.find_all('span', attrs={'name':'nv'})\n",
    "        vote = val[0].text\n",
    "        votes.append(vote)\n",
    "        \n",
    "        grosses = val[1].text if len(val) > 1 else ''\n",
    "        gross_total.append(grosses)\n",
    "#creating dataframes by turning the list into series\n",
    "movies = pd.DataFrame({\n",
    "    'Movie_name' : titles,\n",
    "    'Year' : years,\n",
    "    'Metascore': metascores,\n",
    "    'IMDB_score' : imdb_ratings,\n",
    "    'Movie_rating' : movie_ratings,\n",
    "    'Votes' : votes,\n",
    "    'Domestic_gross' : gross_total,\n",
    "    'Director' : directors,\n",
    "    'Genres' : genres\n",
    "})"
   ]
  },
  {
   "cell_type": "code",
   "execution_count": 15,
   "metadata": {
    "ExecuteTime": {
     "end_time": "2020-11-13T11:36:22.328545Z",
     "start_time": "2020-11-13T11:36:22.302990Z"
    }
   },
   "outputs": [
    {
     "data": {
      "text/plain": [
       "Movie_name         object\n",
       "Year               object\n",
       "Metascore          object\n",
       "IMDB_score        float64\n",
       "Movie_rating       object\n",
       "Votes               int64\n",
       "Domestic_gross     object\n",
       "Director           object\n",
       "Genres             object\n",
       "dtype: object"
      ]
     },
     "execution_count": 15,
     "metadata": {},
     "output_type": "execute_result"
    }
   ],
   "source": [
    "#Checking the initial return data\n",
    "movies.head()"
   ]
  },
  {
   "cell_type": "code",
   "execution_count": 11,
   "metadata": {
    "ExecuteTime": {
     "end_time": "2020-11-13T11:34:29.910965Z",
     "start_time": "2020-11-13T11:34:29.899514Z"
    }
   },
   "outputs": [],
   "source": [
    "movies['Votes'] = movies['Votes'].str.replace(',', '').astype(int)\n",
    "#taking out commas and turning into integers"
   ]
  },
  {
   "cell_type": "code",
   "execution_count": null,
   "metadata": {},
   "outputs": [],
   "source": [
    "movies.loc[:, 'Year'] = movies['Year'].str[-5:-1].astype(int)\n",
    "#taking out parenthesis and turning into integers"
   ]
  },
  {
   "cell_type": "code",
   "execution_count": null,
   "metadata": {},
   "outputs": [],
   "source": [
    "movies.loc[movies['Movie_rating'] == 'GP', 'Movie_rating'] = 'G'\n",
    "#combining the two ratings that mean the same"
   ]
  },
  {
   "cell_type": "code",
   "execution_count": null,
   "metadata": {},
   "outputs": [],
   "source": [
    "movies['Domestic_gross'] = movies['Domestic_gross'].map(lambda x: x.lstrip('$').rstrip('M')) \n",
    "# strip the characters\n",
    "movies['Domestic_gross'] = pd.to_numeric(movies['Domestic_gross'], errors='coerce')\n",
    "# turn into a number \n"
   ]
  },
  {
   "cell_type": "code",
   "execution_count": null,
   "metadata": {},
   "outputs": [],
   "source": [
    "movies[\"Genres\"] = movies[\"Genres\"].map(lambda x: x.lstrip('\\n'))\n",
    "#removing the begining characters in Genres"
   ]
  },
  {
   "cell_type": "code",
   "execution_count": null,
   "metadata": {},
   "outputs": [],
   "source": [
    "movies['Metascore'] = movies['Metascore'].str.extract('(\\d+)') \n",
    "#grabbing the value of each metascore \n",
    "movies['Metascore'] = pd.to_numeric(movies['Metascore'], errors='coerce')\n",
    "#and changing the value to be a float"
   ]
  },
  {
   "cell_type": "code",
   "execution_count": null,
   "metadata": {},
   "outputs": [],
   "source": [
    "movies.to_csv('IMDB_Top_1000.csv')"
   ]
  },
  {
   "cell_type": "code",
   "execution_count": null,
   "metadata": {},
   "outputs": [],
   "source": [
    "imdb_movies = pd.read_csv(\"IMDB_TOP_1000.csv\")"
   ]
  },
  {
   "cell_type": "code",
   "execution_count": null,
   "metadata": {},
   "outputs": [],
   "source": [
    "imdb_movies"
   ]
  },
  {
   "cell_type": "markdown",
   "metadata": {},
   "source": [
    "## Data Collecting  (Api Call)"
   ]
  },
  {
   "cell_type": "code",
   "execution_count": null,
   "metadata": {},
   "outputs": [],
   "source": [
    "url = 'https://www.imdb.com/chart/top'\n",
    "response = requests.get(url)\n",
    "\n",
    "type(response.text)\n",
    "#Raw html data \n",
    "#response.text\n",
    "soup = BeautifulSoup(response.text, 'html.parser')\n",
    "type(soup)\n",
    "movietags = soup.select('td.titleColumn')\n",
    "#movietags[0]"
   ]
  },
  {
   "cell_type": "code",
   "execution_count": null,
   "metadata": {},
   "outputs": [],
   "source": [
    "api_key = \"69ad870bdcbbf9cc540c7a4e4d400bed\""
   ]
  },
  {
   "cell_type": "code",
   "execution_count": null,
   "metadata": {},
   "outputs": [],
   "source": [
    "movie_db = requests.get('https://api.themoviedb.org/3/movie/550?api_key=69ad870bdcbbf9cc540c7a4e4d400bed')\n",
    "movie_db.status_code\n",
    "movie_db = json.loads(movie_db.text)"
   ]
  },
  {
   "cell_type": "code",
   "execution_count": null,
   "metadata": {},
   "outputs": [],
   "source": [
    "top_rated = requests.get('https://api.themoviedb.org/3/movie/top_rated?api_key=69ad870bdcbbf9cc540c7a4e4d400bed&language=en-US&page=1')\n",
    "top_rated_json = json.loads(top_rated.text)\n",
    "top_rated_json.keys()"
   ]
  },
  {
   "cell_type": "code",
   "execution_count": null,
   "metadata": {},
   "outputs": [],
   "source": [
    "top_movies = top_rated_json['results']\n",
    "top_movies = pd.DataFrame(top_rated_json['results'])\n",
    "top_movies"
   ]
  },
  {
   "cell_type": "code",
   "execution_count": null,
   "metadata": {},
   "outputs": [],
   "source": [
    "new_movies_df = top_movies[(top_movies['release_date'].str.startswith('201'))]\n",
    "new_movies_df"
   ]
  },
  {
   "cell_type": "markdown",
   "metadata": {},
   "source": [
    "## Analyzing Data "
   ]
  },
  {
   "cell_type": "code",
   "execution_count": null,
   "metadata": {},
   "outputs": [],
   "source": [
    "imdb_movies.isnull().sum()"
   ]
  },
  {
   "cell_type": "code",
   "execution_count": null,
   "metadata": {},
   "outputs": [],
   "source": [
    "imdb_movies.drop(['Metascore', 'Votes'], axis = 1, inplace = True)"
   ]
  },
  {
   "cell_type": "code",
   "execution_count": null,
   "metadata": {},
   "outputs": [],
   "source": [
    "#Turning off the options that limits the display\n",
    "pd.options.display.max_columns = None\n",
    "pd.options.display.max_rows = None"
   ]
  },
  {
   "cell_type": "code",
   "execution_count": null,
   "metadata": {},
   "outputs": [],
   "source": [
    "#Since we had several genres that apply to each movie, we split them by primary and secondary genres\n",
    "imdb_movies['Primary_Genre'] = imdb_movies.Genres.str.split(',', n = 1, expand = True)[0]\n",
    "imdb_movies['Secondary_Genre'] = imdb_movies.Genres.str.split(',', n = 1, expand = True)[1]"
   ]
  },
  {
   "cell_type": "code",
   "execution_count": null,
   "metadata": {},
   "outputs": [],
   "source": [
    "#Now we're seeing how many movies are in each genre\n",
    "imdb_movies['Primary_Genre'].value_counts()"
   ]
  },
  {
   "cell_type": "code",
   "execution_count": null,
   "metadata": {},
   "outputs": [],
   "source": [
    "#creating individual dataframes for each genre to make plotting easier\n",
    "drama_df = imdb_movies[(imdb_movies['Primary_Genre'] == 'Drama')]\n",
    "action_df = mdb_movies[(imdb_movies['Primary_Genre'] == 'Action')]\n",
    "comedy_df = imdb_movies[(imdb_movies['Primary_Genre'] == 'Comedy')]\n",
    "crime_df = imdb_movies[(imdb_movies['Primary_Genre'] == 'Crime')]\n",
    "bio_df = imdb_movies[(imdb_movies['Primary_Genre'] == 'Biography')]"
   ]
  },
  {
   "cell_type": "code",
   "execution_count": null,
   "metadata": {},
   "outputs": [],
   "source": [
    "#getting rid of index values that don't apply\n",
    "new_drama_df = drama_df[(drama_df['Movie_rating'] != \"Unrated\")]\n",
    "new_action_df = action_df[(action_df['Movie_rating'] != 'Unrated')]\n",
    "new_comedy_df = comedy_df[(comedy_df['Movie_rating'] != 'Unrated')]\n",
    "new_crime_df = crime_df[(crime_df['Movie_rating'] != 'Unrated')]\n",
    "new_bio_df = bio_df[(bio_df['Movie_rating'] != 'Unrated')]"
   ]
  },
  {
   "cell_type": "code",
   "execution_count": null,
   "metadata": {},
   "outputs": [],
   "source": [
    "y1 = new_drama_df.groupby(['Movie_rating'])['Domestic_gross'].mean()\n",
    "x1 = y1.index\n",
    "\n",
    "y2 = new_action_df.groupby(['Movie_rating'])['Domestic_gross'].mean()\n",
    "x2 = y2.index\n",
    "\n",
    "y3 = new_comedy_df.groupby(['Movie_rating'])['Domestic_gross'].mean()\n",
    "x3 = y3.index\n",
    "\n",
    "y4 = new_crime_df.groupby(['Movie_rating'])['Domestic_gross'].mean()\n",
    "x4 = y4.index\n",
    "\n",
    "y5 = new_bio_df.groupby(['Movie_rating'])['Domestic_gross'].mean()\n",
    "x5 = y5.index\n",
    "\n",
    "plt.figure(figsize = (8,6))\n",
    "\n",
    "plt.plot(x1,y1,'r',label = 'Drama')\n",
    "plt.plot(x2,y2,'y',label = 'Action')\n",
    "plt.plot(x3,y3,'g',label = 'Comedy')\n",
    "plt.plot(x4,y4,'b',label = 'Crime')\n",
    "plt.plot(x5, y5,'k',label = 'Bio-Pic') \n",
    "\n",
    "plt.legend()\n",
    "\n",
    "plt.title('Ratio of Rating vs Gross Revenue')\n",
    "plt.ylabel('Gross Revenue')\n",
    "plt.xlabel('Rating')\n",
    "plt.show()"
   ]
  },
  {
   "cell_type": "code",
   "execution_count": null,
   "metadata": {},
   "outputs": [],
   "source": [
    "df.sort_values(by=['Domestic_gross', 'Director'], ascending = False).head(10)"
   ]
  },
  {
   "cell_type": "code",
   "execution_count": null,
   "metadata": {},
   "outputs": [],
   "source": [
    "director_df = df.sort_values(by=['Domestic_gross', 'Director'], ascending = False).head(10)\n",
    "director_df"
   ]
  },
  {
   "cell_type": "code",
   "execution_count": null,
   "metadata": {},
   "outputs": [],
   "source": [
    "plt.figure(figsize = (12,8))\n",
    "y = director_df.groupby(['Director'])['Domestic_gross'].mean()\n",
    "x = y.index\n",
    "plt.bar(x,y)"
   ]
  },
  {
   "cell_type": "code",
   "execution_count": null,
   "metadata": {},
   "outputs": [],
   "source": [
    "y1 = new_drama_df.groupby(['IMDB_score'])['Domestic_gross'].mean()\n",
    "x1 = y1.index\n",
    "\n",
    "y2 = new_action_df.groupby(['IMDB_score'])['Domestic_gross'].mean()\n",
    "x2 = y2.index\n",
    "\n",
    "y3 = new_comedy_df.groupby(['IMDB_score'])['Domestic_gross'].mean()\n",
    "x3 = y3.index\n",
    "\n",
    "y4 = new_crime_df.groupby(['IMDB_score'])['Domestic_gross'].mean()\n",
    "x4 = y4.index\n",
    "\n",
    "y5 = new_bio_df.groupby(['IMDB_score'])['Domestic_gross'].mean()\n",
    "x5 = y5.index\n",
    "\n",
    "plt.figure(figsize = (8,6))\n",
    "\n",
    "plt.plot(x1,y1,'r',label = 'Drama')\n",
    "plt.plot(x2,y2,'y',label = 'Action')\n",
    "plt.plot(x3,y3,'g',label = 'Comedy')\n",
    "plt.plot(x4,y4,'b',label = 'Crime')\n",
    "plt.plot(x5, y5,'k',label = 'Bio-Pic') \n",
    "\n",
    "plt.legend()\n",
    "\n",
    "plt.title('Ratio of IMDB Score vs Gross Revenue')\n",
    "plt.ylabel('Gross Revenue')\n",
    "plt.xlabel('Score')\n",
    "plt.show()"
   ]
  }
 ],
 "metadata": {
  "kernelspec": {
   "display_name": "Python 3",
   "language": "python",
   "name": "python3"
  },
  "language_info": {
   "codemirror_mode": {
    "name": "ipython",
    "version": 3
   },
   "file_extension": ".py",
   "mimetype": "text/x-python",
   "name": "python",
   "nbconvert_exporter": "python",
   "pygments_lexer": "ipython3",
   "version": "3.6.9"
  },
  "toc": {
   "base_numbering": 1,
   "nav_menu": {},
   "number_sections": true,
   "sideBar": true,
   "skip_h1_title": false,
   "title_cell": "Table of Contents",
   "title_sidebar": "Contents",
   "toc_cell": false,
   "toc_position": {},
   "toc_section_display": true,
   "toc_window_display": false
  }
 },
 "nbformat": 4,
 "nbformat_minor": 2
}
