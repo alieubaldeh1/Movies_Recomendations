{
 "cells": [
  {
   "cell_type": "markdown",
   "metadata": {},
   "source": [
    "# Web Scrapping Top 1000 movies IMDB"
   ]
  },
  {
   "cell_type": "markdown",
   "metadata": {},
   "source": [
    "Web Scrapping Imports and code"
   ]
  },
  {
   "cell_type": "code",
   "execution_count": 153,
   "metadata": {
    "ExecuteTime": {
     "end_time": "2020-11-10T19:38:52.094857Z",
     "start_time": "2020-11-10T19:36:12.346665Z"
    }
   },
   "outputs": [],
   "source": [
    "#packages needed\n",
    "import numpy as np\n",
    "import pandas as pd\n",
    "import requests\n",
    "from requests import get\n",
    "from bs4 import BeautifulSoup\n",
    "\n",
    "#imported to add more human behavior\n",
    "from time import sleep\n",
    "from random import randint\n",
    "\n",
    "headers = {'Accept-Language': 'en-US,en;q=0.5'}\n",
    "\n",
    "#empty list containers \n",
    "metascores = []\n",
    "gross_total = []\n",
    "years = []\n",
    "titles = []\n",
    "imdb_ratings = []\n",
    "actors = []\n",
    "genres = []\n",
    "directors = []\n",
    "movie_ratings = []\n",
    "votes = []\n",
    "\n",
    "\n",
    "#Setting range\n",
    "pages = np.arange(1, 1001, 50)\n",
    "\n",
    "#Initial for loop to go through webpages set up with time delays\n",
    "for page in pages:\n",
    "    #setting each loop to be the url\n",
    "    page = requests.get(\"https://www.imdb.com/search/title/?groups=top_1000&start=\" + str(page) + \"&ref_=adv_nxt\", headers=headers)\n",
    "    #using soup to parse through each new url\n",
    "    soup = BeautifulSoup(page.text, 'html.parser')\n",
    "    #initial container for each movie\n",
    "    movie_div = soup.find_all('div', class_='lister-item mode-advanced')\n",
    "    #created random intervals of waiting before next url is loaded\n",
    "    sleep(randint(2,10))\n",
    "    #loops through each container in each page\n",
    "    for cont in movie_div:\n",
    "        #setting each variable to push into the empty list\n",
    "        movie_title = cont.h3.a.text\n",
    "        titles.append(movie_title)\n",
    "        \n",
    "        movie_year = cont.h3.find('span', class_='lister-item-year').text\n",
    "        years.append(movie_year)\n",
    "        \n",
    "        movie_rating = cont.p.find('span', class_='certificate').text if cont.p.find('span', class_='certificate') else  ''\n",
    "        movie_ratings.append(movie_rating)\n",
    "        \n",
    "        movie_genre = cont.p.find('span', class_='genre').text if cont.p.find('span', class_='genre') else ''\n",
    "        genres.append(movie_genre)\n",
    "        \n",
    "        imdb_rating = float(cont.strong.text)\n",
    "        imdb_ratings.append(imdb_rating)\n",
    "        \n",
    "        metascore = cont.find('span', class_= 'metascore').text if cont.find('span', class_='metascore') else ''\n",
    "        metascores.append(metascore)\n",
    "        \n",
    "        cast_and_crew = cont.findAll('p', class_='')[0].findAll('a')\n",
    "        directors.append((cast_and_crew[0]).text)\n",
    "        for x in cast_and_crew:\n",
    "            actor_list = []\n",
    "            if cast_and_crew.index(x) > 0:\n",
    "                actor_list.append(x.text)\n",
    "            actors.append(actor_list)\n",
    "        \n",
    "        val = cont.find_all('span', attrs={'name':'nv'})\n",
    "        \n",
    "        vote = val[0].text\n",
    "        votes.append(vote)\n",
    "        \n",
    "        grosses = val[1].text if len(val) > 1 else ''\n",
    "        gross_total.append(grosses)\n",
    "#creating dataframes by turning the list into series\n",
    "movies = pd.DataFrame({\n",
    "    'Movie_name' : titles,\n",
    "    'Year' : years,\n",
    "    'Metascore': metascores,\n",
    "    'IMDB_score' : imdb_ratings,\n",
    "    'Movie_rating' : movie_ratings,\n",
    "    'Votes' : votes,\n",
    "    'Domestic_gross' : gross_total,\n",
    "#     'Actors' : actors,\n",
    "    'Director' : directors,\n",
    "    'Genres' : genres\n",
    "})"
   ]
  },
  {
   "cell_type": "code",
   "execution_count": 165,
   "metadata": {
    "ExecuteTime": {
     "end_time": "2020-11-10T19:49:16.758591Z",
     "start_time": "2020-11-10T19:49:16.733857Z"
    }
   },
   "outputs": [
    {
     "data": {
      "text/html": [
       "<div>\n",
       "<style scoped>\n",
       "    .dataframe tbody tr th:only-of-type {\n",
       "        vertical-align: middle;\n",
       "    }\n",
       "\n",
       "    .dataframe tbody tr th {\n",
       "        vertical-align: top;\n",
       "    }\n",
       "\n",
       "    .dataframe thead th {\n",
       "        text-align: right;\n",
       "    }\n",
       "</style>\n",
       "<table border=\"1\" class=\"dataframe\">\n",
       "  <thead>\n",
       "    <tr style=\"text-align: right;\">\n",
       "      <th></th>\n",
       "      <th>Movie_name</th>\n",
       "      <th>Year</th>\n",
       "      <th>Metascore</th>\n",
       "      <th>IMDB_score</th>\n",
       "      <th>Movie_rating</th>\n",
       "      <th>Votes</th>\n",
       "      <th>Domestic_gross</th>\n",
       "      <th>Director</th>\n",
       "      <th>Genres</th>\n",
       "    </tr>\n",
       "  </thead>\n",
       "  <tbody>\n",
       "    <tr>\n",
       "      <th>0</th>\n",
       "      <td>The Trial of the Chicago 7</td>\n",
       "      <td>2020</td>\n",
       "      <td>76</td>\n",
       "      <td>7.9</td>\n",
       "      <td>R</td>\n",
       "      <td>51023</td>\n",
       "      <td>NaN</td>\n",
       "      <td>Aaron Sorkin</td>\n",
       "      <td>Drama, History, Thriller</td>\n",
       "    </tr>\n",
       "    <tr>\n",
       "      <th>1</th>\n",
       "      <td>Halloween</td>\n",
       "      <td>1978</td>\n",
       "      <td>87</td>\n",
       "      <td>7.8</td>\n",
       "      <td>R</td>\n",
       "      <td>229669</td>\n",
       "      <td>47.00</td>\n",
       "      <td>John Carpenter</td>\n",
       "      <td>Horror, Thriller</td>\n",
       "    </tr>\n",
       "    <tr>\n",
       "      <th>2</th>\n",
       "      <td>Tenet</td>\n",
       "      <td>2020</td>\n",
       "      <td>69</td>\n",
       "      <td>7.8</td>\n",
       "      <td>PG-13</td>\n",
       "      <td>143111</td>\n",
       "      <td>53.80</td>\n",
       "      <td>Christopher Nolan</td>\n",
       "      <td>Action, Sci-Fi</td>\n",
       "    </tr>\n",
       "    <tr>\n",
       "      <th>3</th>\n",
       "      <td>The Untouchables</td>\n",
       "      <td>1987</td>\n",
       "      <td>79</td>\n",
       "      <td>7.9</td>\n",
       "      <td>R</td>\n",
       "      <td>276401</td>\n",
       "      <td>76.27</td>\n",
       "      <td>Brian De Palma</td>\n",
       "      <td>Crime, Drama, Thriller</td>\n",
       "    </tr>\n",
       "    <tr>\n",
       "      <th>4</th>\n",
       "      <td>The Nightmare Before Christmas</td>\n",
       "      <td>1993</td>\n",
       "      <td>82</td>\n",
       "      <td>8.0</td>\n",
       "      <td>PG</td>\n",
       "      <td>292915</td>\n",
       "      <td>75.08</td>\n",
       "      <td>Henry Selick</td>\n",
       "      <td>Animation, Family, Fantasy</td>\n",
       "    </tr>\n",
       "  </tbody>\n",
       "</table>\n",
       "</div>"
      ],
      "text/plain": [
       "                       Movie_name  Year   Metascore  IMDB_score Movie_rating  \\\n",
       "0      The Trial of the Chicago 7  2020  76                 7.9            R   \n",
       "1                       Halloween  1978  87                 7.8            R   \n",
       "2                           Tenet  2020  69                 7.8        PG-13   \n",
       "3                The Untouchables  1987  79                 7.9            R   \n",
       "4  The Nightmare Before Christmas  1993  82                 8.0           PG   \n",
       "\n",
       "    Votes  Domestic_gross           Director  \\\n",
       "0   51023             NaN       Aaron Sorkin   \n",
       "1  229669           47.00     John Carpenter   \n",
       "2  143111           53.80  Christopher Nolan   \n",
       "3  276401           76.27     Brian De Palma   \n",
       "4  292915           75.08       Henry Selick   \n",
       "\n",
       "                                   Genres  \n",
       "0    Drama, History, Thriller              \n",
       "1            Horror, Thriller              \n",
       "2              Action, Sci-Fi              \n",
       "3      Crime, Drama, Thriller              \n",
       "4  Animation, Family, Fantasy              "
      ]
     },
     "execution_count": 165,
     "metadata": {},
     "output_type": "execute_result"
    }
   ],
   "source": [
    "movies.head()"
   ]
  },
  {
   "cell_type": "code",
   "execution_count": 156,
   "metadata": {
    "ExecuteTime": {
     "end_time": "2020-11-10T19:40:51.037306Z",
     "start_time": "2020-11-10T19:40:51.018360Z"
    }
   },
   "outputs": [],
   "source": [
    "movies['Votes'] = movies['Votes'].str.replace(',', '').astype(int) # take out commas  and make into integers\n",
    "#taking out commas and turning into integers"
   ]
  },
  {
   "cell_type": "code",
   "execution_count": 159,
   "metadata": {
    "ExecuteTime": {
     "end_time": "2020-11-10T19:41:38.398412Z",
     "start_time": "2020-11-10T19:41:38.384764Z"
    }
   },
   "outputs": [],
   "source": [
    "movies.loc[:, 'Year'] = movies['Year'].str[-5:-1].astype(int)\n",
    "#taking out parenthesis and turning into integers"
   ]
  },
  {
   "cell_type": "code",
   "execution_count": 161,
   "metadata": {
    "ExecuteTime": {
     "end_time": "2020-11-10T19:45:37.356979Z",
     "start_time": "2020-11-10T19:45:37.339664Z"
    }
   },
   "outputs": [],
   "source": [
    "movies['Domestic_gross'] = movies['Domestic_gross'].map(lambda x: x.lstrip('$').rstrip('M')) \n",
    "# strip the characters\n",
    "movies['Domestic_gross'] = pd.to_numeric(movies['Domestic_gross'], errors='coerce')\n",
    "# turn into a number \n"
   ]
  },
  {
   "cell_type": "code",
   "execution_count": 164,
   "metadata": {
    "ExecuteTime": {
     "end_time": "2020-11-10T19:49:10.316866Z",
     "start_time": "2020-11-10T19:49:10.304591Z"
    }
   },
   "outputs": [],
   "source": [
    "movies[\"Genres\"] = movies[\"Genres\"].map(lambda x: x.lstrip('\\n'))\n",
    "#removing the begining characters in Genres"
   ]
  },
  {
   "cell_type": "code",
   "execution_count": 169,
   "metadata": {
    "ExecuteTime": {
     "end_time": "2020-11-10T19:55:37.363521Z",
     "start_time": "2020-11-10T19:55:37.355244Z"
    }
   },
   "outputs": [
    {
     "name": "stdout",
     "output_type": "stream",
     "text": [
      "Movie_name         object\n",
      "Year                int64\n",
      "Metascore         float64\n",
      "IMDB_score        float64\n",
      "Movie_rating       object\n",
      "Votes               int64\n",
      "Domestic_gross    float64\n",
      "Director           object\n",
      "Genres             object\n",
      "dtype: object\n"
     ]
    }
   ],
   "source": [
    "print(movies.dtypes)"
   ]
  },
  {
   "cell_type": "code",
   "execution_count": 168,
   "metadata": {
    "ExecuteTime": {
     "end_time": "2020-11-10T19:55:34.932370Z",
     "start_time": "2020-11-10T19:55:34.893186Z"
    }
   },
   "outputs": [],
   "source": [
    "movies['Metascore'] = movies['Metascore'].str.extract('(\\d+)') \n",
    "#grabbing the value of each metascore \n",
    "movies['Metascore'] = pd.to_numeric(movies['Metascore'], errors='coerce')\n",
    "#and changing the value to be a float"
   ]
  },
  {
   "cell_type": "code",
   "execution_count": null,
   "metadata": {},
   "outputs": [],
   "source": []
  }
 ],
 "metadata": {
  "kernelspec": {
   "display_name": "learn-env",
   "language": "python",
   "name": "learn-env"
  },
  "language_info": {
   "codemirror_mode": {
    "name": "ipython",
    "version": 3
   },
   "file_extension": ".py",
   "mimetype": "text/x-python",
   "name": "python",
   "nbconvert_exporter": "python",
   "pygments_lexer": "ipython3",
   "version": "3.6.9"
  },
  "toc": {
   "base_numbering": 1,
   "nav_menu": {},
   "number_sections": true,
   "sideBar": true,
   "skip_h1_title": false,
   "title_cell": "Table of Contents",
   "title_sidebar": "Contents",
   "toc_cell": false,
   "toc_position": {},
   "toc_section_display": true,
   "toc_window_display": false
  }
 },
 "nbformat": 4,
 "nbformat_minor": 4
}
