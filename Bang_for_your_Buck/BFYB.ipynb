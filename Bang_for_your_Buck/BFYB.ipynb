{
 "cells": [
  {
   "cell_type": "markdown",
   "metadata": {},
   "source": [
    "# Web Scrapping Top 1000 movies IMDB"
   ]
  },
  {
   "cell_type": "markdown",
   "metadata": {},
   "source": [
    "Web Scrapping Imports and code"
   ]
  },
  {
   "cell_type": "code",
   "execution_count": 153,
   "metadata": {
    "ExecuteTime": {
     "end_time": "2020-11-10T19:38:52.094857Z",
     "start_time": "2020-11-10T19:36:12.346665Z"
    }
   },
   "outputs": [],
   "source": [
    "#packages needed\n",
    "import numpy as np\n",
    "import pandas as pd\n",
    "import requests\n",
    "from requests import get\n",
    "from bs4 import BeautifulSoup\n",
    "\n",
    "#imported to add more human behavior\n",
    "from time import sleep\n",
    "from random import randint\n",
    "\n",
    "headers = {'Accept-Language': 'en-US,en;q=0.5'}\n",
    "\n",
    "#empty list containers \n",
    "metascores = []\n",
    "gross_total = []\n",
    "years = []\n",
    "titles = []\n",
    "imdb_ratings = []\n",
    "actors = []\n",
    "genres = []\n",
    "directors = []\n",
    "movie_ratings = []\n",
    "votes = []\n",
    "\n",
    "\n",
    "#Setting range\n",
    "pages = np.arange(1, 1001, 50)\n",
    "\n",
    "#Initial for loop to go through webpages set up with time delays\n",
    "for page in pages:\n",
    "    #setting each loop to be the url\n",
    "    page = requests.get(\"https://www.imdb.com/search/title/?groups=top_1000&start=\" + str(page) + \"&ref_=adv_nxt\", headers=headers)\n",
    "    #using soup to parse through each new url\n",
    "    soup = BeautifulSoup(page.text, 'html.parser')\n",
    "    #initial container for each movie\n",
    "    movie_div = soup.find_all('div', class_='lister-item mode-advanced')\n",
    "    #created random intervals of waiting before next url is loaded\n",
    "    sleep(randint(2,10))\n",
    "    #loops through each container in each page\n",
    "    for cont in movie_div:\n",
    "        #setting each variable to push into the empty list\n",
    "        movie_title = cont.h3.a.text\n",
    "        titles.append(movie_title)\n",
    "        \n",
    "        movie_year = cont.h3.find('span', class_='lister-item-year').text\n",
    "        years.append(movie_year)\n",
    "        \n",
    "        movie_rating = cont.p.find('span', class_='certificate').text if cont.p.find('span', class_='certificate') else  ''\n",
    "        movie_ratings.append(movie_rating)\n",
    "        \n",
    "        movie_genre = cont.p.find('span', class_='genre').text if cont.p.find('span', class_='genre') else ''\n",
    "        genres.append(movie_genre)\n",
    "        \n",
    "        imdb_rating = float(cont.strong.text)\n",
    "        imdb_ratings.append(imdb_rating)\n",
    "        \n",
    "        metascore = cont.find('span', class_= 'metascore').text if cont.find('span', class_='metascore') else ''\n",
    "        metascores.append(metascore)\n",
    "        \n",
    "        cast_and_crew = cont.findAll('p', class_='')[0].findAll('a')\n",
    "        directors.append((cast_and_crew[0]).text)\n",
    "        for x in cast_and_crew:\n",
    "            actor_list = []\n",
    "            if cast_and_crew.index(x) > 0:\n",
    "                actor_list.append(x.text)\n",
    "            actors.append(actor_list)\n",
    "        \n",
    "        val = cont.find_all('span', attrs={'name':'nv'})\n",
    "        \n",
    "        vote = val[0].text\n",
    "        votes.append(vote)\n",
    "        \n",
    "        grosses = val[1].text if len(val) > 1 else ''\n",
    "        gross_total.append(grosses)\n",
    "#creating dataframes by turning the list into series\n",
    "movies = pd.DataFrame({\n",
    "    'Movie_name' : titles,\n",
    "    'Year' : years,\n",
    "    'Metascore': metascores,\n",
    "    'IMDB_score' : imdb_ratings,\n",
    "    'Movie_rating' : movie_ratings,\n",
    "    'Votes' : votes,\n",
    "    'Domestic_gross' : gross_total,\n",
    "#     'Actors' : actors,\n",
    "    'Director' : directors,\n",
    "    'Genres' : genres\n",
    "})"
   ]
  },
  {
   "cell_type": "code",
   "execution_count": 165,
   "metadata": {
    "ExecuteTime": {
     "end_time": "2020-11-10T19:49:16.758591Z",
     "start_time": "2020-11-10T19:49:16.733857Z"
    }
   },
   "outputs": [
    {
     "data": {
      "text/html": [
       "<div>\n",
       "<style scoped>\n",
       "    .dataframe tbody tr th:only-of-type {\n",
       "        vertical-align: middle;\n",
       "    }\n",
       "\n",
       "    .dataframe tbody tr th {\n",
       "        vertical-align: top;\n",
       "    }\n",
       "\n",
       "    .dataframe thead th {\n",
       "        text-align: right;\n",
       "    }\n",
       "</style>\n",
       "<table border=\"1\" class=\"dataframe\">\n",
       "  <thead>\n",
       "    <tr style=\"text-align: right;\">\n",
       "      <th></th>\n",
       "      <th>Movie_name</th>\n",
       "      <th>Year</th>\n",
       "      <th>Metascore</th>\n",
       "      <th>IMDB_score</th>\n",
       "      <th>Movie_rating</th>\n",
       "      <th>Votes</th>\n",
       "      <th>Domestic_gross</th>\n",
       "      <th>Director</th>\n",
       "      <th>Genres</th>\n",
       "    </tr>\n",
       "  </thead>\n",
       "  <tbody>\n",
       "    <tr>\n",
       "      <th>0</th>\n",
       "      <td>The Trial of the Chicago 7</td>\n",
       "      <td>2020</td>\n",
       "      <td>76</td>\n",
       "      <td>7.9</td>\n",
       "      <td>R</td>\n",
       "      <td>51023</td>\n",
       "      <td>NaN</td>\n",
       "      <td>Aaron Sorkin</td>\n",
       "      <td>Drama, History, Thriller</td>\n",
       "    </tr>\n",
       "    <tr>\n",
       "      <th>1</th>\n",
       "      <td>Halloween</td>\n",
       "      <td>1978</td>\n",
       "      <td>87</td>\n",
       "      <td>7.8</td>\n",
       "      <td>R</td>\n",
       "      <td>229669</td>\n",
       "      <td>47.00</td>\n",
       "      <td>John Carpenter</td>\n",
       "      <td>Horror, Thriller</td>\n",
       "    </tr>\n",
       "    <tr>\n",
       "      <th>2</th>\n",
       "      <td>Tenet</td>\n",
       "      <td>2020</td>\n",
       "      <td>69</td>\n",
       "      <td>7.8</td>\n",
       "      <td>PG-13</td>\n",
       "      <td>143111</td>\n",
       "      <td>53.80</td>\n",
       "      <td>Christopher Nolan</td>\n",
       "      <td>Action, Sci-Fi</td>\n",
       "    </tr>\n",
       "    <tr>\n",
       "      <th>3</th>\n",
       "      <td>The Untouchables</td>\n",
       "      <td>1987</td>\n",
       "      <td>79</td>\n",
       "      <td>7.9</td>\n",
       "      <td>R</td>\n",
       "      <td>276401</td>\n",
       "      <td>76.27</td>\n",
       "      <td>Brian De Palma</td>\n",
       "      <td>Crime, Drama, Thriller</td>\n",
       "    </tr>\n",
       "    <tr>\n",
       "      <th>4</th>\n",
       "      <td>The Nightmare Before Christmas</td>\n",
       "      <td>1993</td>\n",
       "      <td>82</td>\n",
       "      <td>8.0</td>\n",
       "      <td>PG</td>\n",
       "      <td>292915</td>\n",
       "      <td>75.08</td>\n",
       "      <td>Henry Selick</td>\n",
       "      <td>Animation, Family, Fantasy</td>\n",
       "    </tr>\n",
       "  </tbody>\n",
       "</table>\n",
       "</div>"
      ],
      "text/plain": [
       "                       Movie_name  Year   Metascore  IMDB_score Movie_rating  \\\n",
       "0      The Trial of the Chicago 7  2020  76                 7.9            R   \n",
       "1                       Halloween  1978  87                 7.8            R   \n",
       "2                           Tenet  2020  69                 7.8        PG-13   \n",
       "3                The Untouchables  1987  79                 7.9            R   \n",
       "4  The Nightmare Before Christmas  1993  82                 8.0           PG   \n",
       "\n",
       "    Votes  Domestic_gross           Director  \\\n",
       "0   51023             NaN       Aaron Sorkin   \n",
       "1  229669           47.00     John Carpenter   \n",
       "2  143111           53.80  Christopher Nolan   \n",
       "3  276401           76.27     Brian De Palma   \n",
       "4  292915           75.08       Henry Selick   \n",
       "\n",
       "                                   Genres  \n",
       "0    Drama, History, Thriller              \n",
       "1            Horror, Thriller              \n",
       "2              Action, Sci-Fi              \n",
       "3      Crime, Drama, Thriller              \n",
       "4  Animation, Family, Fantasy              "
      ]
     },
     "execution_count": 165,
     "metadata": {},
     "output_type": "execute_result"
    }
   ],
   "source": [
    "movies.head()"
   ]
  },
  {
   "cell_type": "code",
   "execution_count": 156,
   "metadata": {
    "ExecuteTime": {
     "end_time": "2020-11-10T19:40:51.037306Z",
     "start_time": "2020-11-10T19:40:51.018360Z"
    }
   },
   "outputs": [],
   "source": [
    "movies['Votes'] = movies['Votes'].str.replace(',', '').astype(int) # take out commas  and make into integers\n",
    "#taking out commas and turning into integers"
   ]
  },
  {
   "cell_type": "code",
   "execution_count": 159,
   "metadata": {
    "ExecuteTime": {
     "end_time": "2020-11-10T19:41:38.398412Z",
     "start_time": "2020-11-10T19:41:38.384764Z"
    }
   },
   "outputs": [],
   "source": [
    "movies.loc[:, 'Year'] = movies['Year'].str[-5:-1].astype(int)\n",
    "#taking out parenthesis and turning into integers"
   ]
  },
  {
   "cell_type": "code",
   "execution_count": 161,
   "metadata": {
    "ExecuteTime": {
     "end_time": "2020-11-10T19:45:37.356979Z",
     "start_time": "2020-11-10T19:45:37.339664Z"
    }
   },
   "outputs": [],
   "source": [
    "movies['Domestic_gross'] = movies['Domestic_gross'].map(lambda x: x.lstrip('$').rstrip('M')) \n",
    "# strip the characters\n",
    "movies['Domestic_gross'] = pd.to_numeric(movies['Domestic_gross'], errors='coerce')\n",
    "# turn into a number \n"
   ]
  },
  {
   "cell_type": "code",
   "execution_count": 164,
   "metadata": {
    "ExecuteTime": {
     "end_time": "2020-11-10T19:49:10.316866Z",
     "start_time": "2020-11-10T19:49:10.304591Z"
    }
   },
   "outputs": [],
   "source": [
    "movies[\"Genres\"] = movies[\"Genres\"].map(lambda x: x.lstrip('\\n'))\n",
    "#removing the begining characters in Genres"
   ]
  },
  {
   "cell_type": "code",
   "execution_count": 169,
   "metadata": {
    "ExecuteTime": {
     "end_time": "2020-11-10T19:55:37.363521Z",
     "start_time": "2020-11-10T19:55:37.355244Z"
    }
   },
   "outputs": [
    {
     "name": "stdout",
     "output_type": "stream",
     "text": [
      "Movie_name         object\n",
      "Year                int64\n",
      "Metascore         float64\n",
      "IMDB_score        float64\n",
      "Movie_rating       object\n",
      "Votes               int64\n",
      "Domestic_gross    float64\n",
      "Director           object\n",
      "Genres             object\n",
      "dtype: object\n"
     ]
    }
   ],
   "source": [
    "print(movies.dtypes)"
   ]
  },
  {
   "cell_type": "code",
   "execution_count": 168,
   "metadata": {
    "ExecuteTime": {
     "end_time": "2020-11-10T19:55:34.932370Z",
     "start_time": "2020-11-10T19:55:34.893186Z"
    }
   },
   "outputs": [],
   "source": [
    "movies['Metascore'] = movies['Metascore'].str.extract('(\\d+)') \n",
    "#grabbing the value of each metascore \n",
    "movies['Metascore'] = pd.to_numeric(movies['Metascore'], errors='coerce')\n",
    "#and changing the value to be a float"
   ]
  },
  {
   "cell_type": "code",
   "execution_count": 170,
   "metadata": {
    "ExecuteTime": {
     "end_time": "2020-11-10T20:00:04.173287Z",
     "start_time": "2020-11-10T20:00:04.124588Z"
    }
   },
   "outputs": [],
   "source": [
    "movies.to_csv('IMDB_Top_1000.csv')"
   ]
  },
  {
   "cell_type": "code",
   "execution_count": 175,
   "metadata": {
    "ExecuteTime": {
     "end_time": "2020-11-10T20:02:14.651812Z",
     "start_time": "2020-11-10T20:02:14.631411Z"
    }
   },
   "outputs": [],
   "source": [
    "imdb_movies = pd.read_csv(\"IMDB_TOP_1000.csv\")"
   ]
  },
  {
   "cell_type": "code",
   "execution_count": 176,
   "metadata": {
    "ExecuteTime": {
     "end_time": "2020-11-10T20:02:15.954051Z",
     "start_time": "2020-11-10T20:02:15.910860Z"
    }
   },
   "outputs": [
    {
     "data": {
      "text/html": [
       "<div>\n",
       "<style scoped>\n",
       "    .dataframe tbody tr th:only-of-type {\n",
       "        vertical-align: middle;\n",
       "    }\n",
       "\n",
       "    .dataframe tbody tr th {\n",
       "        vertical-align: top;\n",
       "    }\n",
       "\n",
       "    .dataframe thead th {\n",
       "        text-align: right;\n",
       "    }\n",
       "</style>\n",
       "<table border=\"1\" class=\"dataframe\">\n",
       "  <thead>\n",
       "    <tr style=\"text-align: right;\">\n",
       "      <th></th>\n",
       "      <th>Unnamed: 0</th>\n",
       "      <th>Movie_name</th>\n",
       "      <th>Year</th>\n",
       "      <th>Metascore</th>\n",
       "      <th>IMDB_score</th>\n",
       "      <th>Movie_rating</th>\n",
       "      <th>Votes</th>\n",
       "      <th>Domestic_gross</th>\n",
       "      <th>Director</th>\n",
       "      <th>Genres</th>\n",
       "    </tr>\n",
       "  </thead>\n",
       "  <tbody>\n",
       "    <tr>\n",
       "      <th>0</th>\n",
       "      <td>0</td>\n",
       "      <td>The Trial of the Chicago 7</td>\n",
       "      <td>2020</td>\n",
       "      <td>76.0</td>\n",
       "      <td>7.9</td>\n",
       "      <td>R</td>\n",
       "      <td>51023</td>\n",
       "      <td>NaN</td>\n",
       "      <td>Aaron Sorkin</td>\n",
       "      <td>Drama, History, Thriller</td>\n",
       "    </tr>\n",
       "    <tr>\n",
       "      <th>1</th>\n",
       "      <td>1</td>\n",
       "      <td>Halloween</td>\n",
       "      <td>1978</td>\n",
       "      <td>87.0</td>\n",
       "      <td>7.8</td>\n",
       "      <td>R</td>\n",
       "      <td>229669</td>\n",
       "      <td>47.00</td>\n",
       "      <td>John Carpenter</td>\n",
       "      <td>Horror, Thriller</td>\n",
       "    </tr>\n",
       "    <tr>\n",
       "      <th>2</th>\n",
       "      <td>2</td>\n",
       "      <td>Tenet</td>\n",
       "      <td>2020</td>\n",
       "      <td>69.0</td>\n",
       "      <td>7.8</td>\n",
       "      <td>PG-13</td>\n",
       "      <td>143111</td>\n",
       "      <td>53.80</td>\n",
       "      <td>Christopher Nolan</td>\n",
       "      <td>Action, Sci-Fi</td>\n",
       "    </tr>\n",
       "    <tr>\n",
       "      <th>3</th>\n",
       "      <td>3</td>\n",
       "      <td>The Untouchables</td>\n",
       "      <td>1987</td>\n",
       "      <td>79.0</td>\n",
       "      <td>7.9</td>\n",
       "      <td>R</td>\n",
       "      <td>276401</td>\n",
       "      <td>76.27</td>\n",
       "      <td>Brian De Palma</td>\n",
       "      <td>Crime, Drama, Thriller</td>\n",
       "    </tr>\n",
       "    <tr>\n",
       "      <th>4</th>\n",
       "      <td>4</td>\n",
       "      <td>The Nightmare Before Christmas</td>\n",
       "      <td>1993</td>\n",
       "      <td>82.0</td>\n",
       "      <td>8.0</td>\n",
       "      <td>PG</td>\n",
       "      <td>292915</td>\n",
       "      <td>75.08</td>\n",
       "      <td>Henry Selick</td>\n",
       "      <td>Animation, Family, Fantasy</td>\n",
       "    </tr>\n",
       "    <tr>\n",
       "      <th>...</th>\n",
       "      <td>...</td>\n",
       "      <td>...</td>\n",
       "      <td>...</td>\n",
       "      <td>...</td>\n",
       "      <td>...</td>\n",
       "      <td>...</td>\n",
       "      <td>...</td>\n",
       "      <td>...</td>\n",
       "      <td>...</td>\n",
       "      <td>...</td>\n",
       "    </tr>\n",
       "    <tr>\n",
       "      <th>995</th>\n",
       "      <td>995</td>\n",
       "      <td>Vizontele</td>\n",
       "      <td>2001</td>\n",
       "      <td>NaN</td>\n",
       "      <td>8.0</td>\n",
       "      <td>NaN</td>\n",
       "      <td>32711</td>\n",
       "      <td>NaN</td>\n",
       "      <td>Yilmaz Erdogan</td>\n",
       "      <td>Comedy, Drama</td>\n",
       "    </tr>\n",
       "    <tr>\n",
       "      <th>996</th>\n",
       "      <td>996</td>\n",
       "      <td>The Breath</td>\n",
       "      <td>2009</td>\n",
       "      <td>NaN</td>\n",
       "      <td>8.0</td>\n",
       "      <td>NaN</td>\n",
       "      <td>31449</td>\n",
       "      <td>NaN</td>\n",
       "      <td>Levent Semerci</td>\n",
       "      <td>Action, Drama, Thriller</td>\n",
       "    </tr>\n",
       "    <tr>\n",
       "      <th>997</th>\n",
       "      <td>997</td>\n",
       "      <td>Andaz Apna Apna</td>\n",
       "      <td>1994</td>\n",
       "      <td>NaN</td>\n",
       "      <td>8.2</td>\n",
       "      <td>PG</td>\n",
       "      <td>48709</td>\n",
       "      <td>NaN</td>\n",
       "      <td>Rajkumar Santoshi</td>\n",
       "      <td>Comedy, Romance</td>\n",
       "    </tr>\n",
       "    <tr>\n",
       "      <th>998</th>\n",
       "      <td>998</td>\n",
       "      <td>Drishyam</td>\n",
       "      <td>2013</td>\n",
       "      <td>NaN</td>\n",
       "      <td>8.3</td>\n",
       "      <td>Not Rated</td>\n",
       "      <td>30112</td>\n",
       "      <td>NaN</td>\n",
       "      <td>Jeethu Joseph</td>\n",
       "      <td>Crime, Drama, Thriller</td>\n",
       "    </tr>\n",
       "    <tr>\n",
       "      <th>999</th>\n",
       "      <td>999</td>\n",
       "      <td>English Vinglish</td>\n",
       "      <td>2012</td>\n",
       "      <td>NaN</td>\n",
       "      <td>7.8</td>\n",
       "      <td>Not Rated</td>\n",
       "      <td>33072</td>\n",
       "      <td>1.67</td>\n",
       "      <td>Gauri Shinde</td>\n",
       "      <td>Comedy, Drama, Family</td>\n",
       "    </tr>\n",
       "  </tbody>\n",
       "</table>\n",
       "<p>1000 rows × 10 columns</p>\n",
       "</div>"
      ],
      "text/plain": [
       "     Unnamed: 0                      Movie_name  Year  Metascore  IMDB_score  \\\n",
       "0             0      The Trial of the Chicago 7  2020       76.0         7.9   \n",
       "1             1                       Halloween  1978       87.0         7.8   \n",
       "2             2                           Tenet  2020       69.0         7.8   \n",
       "3             3                The Untouchables  1987       79.0         7.9   \n",
       "4             4  The Nightmare Before Christmas  1993       82.0         8.0   \n",
       "..          ...                             ...   ...        ...         ...   \n",
       "995         995                       Vizontele  2001        NaN         8.0   \n",
       "996         996                      The Breath  2009        NaN         8.0   \n",
       "997         997                 Andaz Apna Apna  1994        NaN         8.2   \n",
       "998         998                        Drishyam  2013        NaN         8.3   \n",
       "999         999                English Vinglish  2012        NaN         7.8   \n",
       "\n",
       "    Movie_rating   Votes  Domestic_gross           Director  \\\n",
       "0              R   51023             NaN       Aaron Sorkin   \n",
       "1              R  229669           47.00     John Carpenter   \n",
       "2          PG-13  143111           53.80  Christopher Nolan   \n",
       "3              R  276401           76.27     Brian De Palma   \n",
       "4             PG  292915           75.08       Henry Selick   \n",
       "..           ...     ...             ...                ...   \n",
       "995          NaN   32711             NaN     Yilmaz Erdogan   \n",
       "996          NaN   31449             NaN     Levent Semerci   \n",
       "997           PG   48709             NaN  Rajkumar Santoshi   \n",
       "998    Not Rated   30112             NaN      Jeethu Joseph   \n",
       "999    Not Rated   33072            1.67       Gauri Shinde   \n",
       "\n",
       "                                     Genres  \n",
       "0      Drama, History, Thriller              \n",
       "1              Horror, Thriller              \n",
       "2                Action, Sci-Fi              \n",
       "3        Crime, Drama, Thriller              \n",
       "4    Animation, Family, Fantasy              \n",
       "..                                      ...  \n",
       "995               Comedy, Drama              \n",
       "996     Action, Drama, Thriller              \n",
       "997             Comedy, Romance              \n",
       "998      Crime, Drama, Thriller              \n",
       "999       Comedy, Drama, Family              \n",
       "\n",
       "[1000 rows x 10 columns]"
      ]
     },
     "execution_count": 176,
     "metadata": {},
     "output_type": "execute_result"
    }
   ],
   "source": [
    "imdb_movies"
   ]
  },
  {
   "cell_type": "code",
   "execution_count": null,
   "metadata": {},
   "outputs": [],
   "source": []
  }
 ],
 "metadata": {
  "kernelspec": {
   "display_name": "learn-env",
   "language": "python",
   "name": "learn-env"
  },
  "language_info": {
   "codemirror_mode": {
    "name": "ipython",
    "version": 3
   },
   "file_extension": ".py",
   "mimetype": "text/x-python",
   "name": "python",
   "nbconvert_exporter": "python",
   "pygments_lexer": "ipython3",
   "version": "3.6.9"
  },
  "toc": {
   "base_numbering": 1,
   "nav_menu": {},
   "number_sections": true,
   "sideBar": true,
   "skip_h1_title": false,
   "title_cell": "Table of Contents",
   "title_sidebar": "Contents",
   "toc_cell": false,
   "toc_position": {},
   "toc_section_display": true,
   "toc_window_display": false
  }
 },
 "nbformat": 4,
 "nbformat_minor": 4
}
