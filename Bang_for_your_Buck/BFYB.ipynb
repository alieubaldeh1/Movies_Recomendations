{
 "cells": [
  {
   "cell_type": "markdown",
   "metadata": {},
   "source": [
    "# Web Scrapping Top 1000 movies IMDB"
   ]
  },
  {
   "cell_type": "markdown",
   "metadata": {},
   "source": [
    "Web Scrapping Imports and code"
   ]
  },
  {
   "cell_type": "code",
   "execution_count": 4,
   "metadata": {
    "ExecuteTime": {
     "end_time": "2020-11-10T12:55:45.724505Z",
     "start_time": "2020-11-10T12:55:42.896259Z"
    }
   },
   "outputs": [],
   "source": [
    "#packages needed\n",
    "import numpy as np\n",
    "import pandas as pd\n",
    "from requests import get\n",
    "from bs4 import BeautifulSoup\n",
    "\n",
    "#imported to add more human behavior\n",
    "from time import sleep\n",
    "from random import randint\n",
    "\n",
    "#empty list containers \n",
    "metascores = []\n",
    "us_gross = []\n",
    "years = []\n",
    "titles = []\n",
    "imdb_ratings = []\n",
    "actors = []\n",
    "genres = []\n",
    "directors = []\n",
    "movie_ratings = []\n",
    "\n",
    "\n",
    "#Setting range\n",
    "pages = np.arange(1, 10, 50)\n",
    "\n",
    "#Initial for loop to go through webpages set up with time delays\n",
    "for page in pages:\n",
    "    #setting each loop to be the url\n",
    "    page = get('https://www.imdb.com/search/title/?groups=top_1000&start=\" + str(page) + \"&ref_=adv_nxt')\n",
    "    #using soup to parse through each new url\n",
    "    soup = BeautifulSoup(page.text, 'html.parser')\n",
    "    #initial container for each movie\n",
    "    movie_div = soup.find_all('div', class_='lister-item mode-advanced')\n",
    "    #created random intervals of waiting before next url is loaded\n",
    "    sleep(randint(2,10))\n",
    "    #loops through each container in each page\n",
    "    for cont in movie_div:\n",
    "        #setting each variable to push into the empty list\n",
    "        movie_title = cont.h3.a.text\n",
    "        titles.append(movie_title)\n",
    "        \n",
    "        movie_year = cont.h3.find('span', class_='lister-item-year').text\n",
    "        years.append(movie_year)\n",
    "        \n",
    "        movie_rating = cont.p.find('span', class_='certificate').text\n",
    "        movie_ratings.append(movie_rating)\n",
    "        \n",
    "        movie_genre = cont.p.find('span', class_='genre').text\n",
    "        genres.append('movie_genre')\n",
    "        \n",
    "        imdb_rating = float(cont.strong.text)\n",
    "        imdb_ratings.append(imdb_rating)\n",
    "        \n",
    "        metascore = cont.find('span', class_= 'metascore').text if container.find('span', class_='metascore') else ''\n",
    "        metascores.append(metascore)\n",
    "        \n",
    "        cast_and_crew = cont.find_all('p', class_='').find_all('a')\n",
    "        "
   ]
  },
  {
   "cell_type": "code",
   "execution_count": 73,
   "metadata": {
    "ExecuteTime": {
     "end_time": "2020-11-10T13:45:00.707093Z",
     "start_time": "2020-11-10T13:44:59.558515Z"
    }
   },
   "outputs": [
    {
     "data": {
      "text/plain": [
       "'Roman Griffin Davis'"
      ]
     },
     "execution_count": 73,
     "metadata": {},
     "output_type": "execute_result"
    }
   ],
   "source": [
    "    page = get('https://www.imdb.com/search/title/?groups=top_1000&start=51&ref_=adv_nxt')\n",
    "    #using soup to parse through each new url\n",
    "    soup = BeautifulSoup(page.text, 'html.parser')\n",
    "    #initial container for each movie\n",
    "    movie_div = soup.find_all('div', class_='lister-item mode-advanced')\n",
    "    cast_and_crew = movie_div[0].find_all('p', class_='')[0].find_all('a')[1:]\n",
    "#     director = cast_and_crew[0]\n",
    "cast_and_crew[0].text"
   ]
  },
  {
   "cell_type": "code",
   "execution_count": null,
   "metadata": {},
   "outputs": [],
   "source": []
  }
 ],
 "metadata": {
  "kernelspec": {
   "display_name": "learn-env",
   "language": "python",
   "name": "learn-env"
  },
  "language_info": {
   "codemirror_mode": {
    "name": "ipython",
    "version": 3
   },
   "file_extension": ".py",
   "mimetype": "text/x-python",
   "name": "python",
   "nbconvert_exporter": "python",
   "pygments_lexer": "ipython3",
   "version": "3.6.9"
  },
  "toc": {
   "base_numbering": 1,
   "nav_menu": {},
   "number_sections": true,
   "sideBar": true,
   "skip_h1_title": false,
   "title_cell": "Table of Contents",
   "title_sidebar": "Contents",
   "toc_cell": false,
   "toc_position": {},
   "toc_section_display": true,
   "toc_window_display": false
  }
 },
 "nbformat": 4,
 "nbformat_minor": 4
}
