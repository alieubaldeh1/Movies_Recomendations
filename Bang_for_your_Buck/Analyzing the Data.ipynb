{
 "cells": [
  {
   "cell_type": "code",
   "execution_count": 2,
   "metadata": {
    "ExecuteTime": {
     "end_time": "2020-11-12T13:42:26.688749Z",
     "start_time": "2020-11-12T13:42:26.665753Z"
    }
   },
   "outputs": [],
   "source": [
    "import numpy as np\n",
    "import pandas as pd\n",
    "import matplotlib.pyplot as plt\n",
    "%matplotlib inline"
   ]
  },
  {
   "cell_type": "code",
   "execution_count": 3,
   "metadata": {
    "ExecuteTime": {
     "end_time": "2020-11-11T16:10:36.593676Z",
     "start_time": "2020-11-11T16:10:36.567557Z"
    }
   },
   "outputs": [],
   "source": [
    "df = pd.read_csv('IMDB_Top_1000.csv')"
   ]
  },
  {
   "cell_type": "code",
   "execution_count": 4,
   "metadata": {
    "ExecuteTime": {
     "end_time": "2020-11-11T16:10:44.421591Z",
     "start_time": "2020-11-11T16:10:44.371528Z"
    }
   },
   "outputs": [
    {
     "data": {
      "text/html": [
       "<div>\n",
       "<style scoped>\n",
       "    .dataframe tbody tr th:only-of-type {\n",
       "        vertical-align: middle;\n",
       "    }\n",
       "\n",
       "    .dataframe tbody tr th {\n",
       "        vertical-align: top;\n",
       "    }\n",
       "\n",
       "    .dataframe thead th {\n",
       "        text-align: right;\n",
       "    }\n",
       "</style>\n",
       "<table border=\"1\" class=\"dataframe\">\n",
       "  <thead>\n",
       "    <tr style=\"text-align: right;\">\n",
       "      <th></th>\n",
       "      <th>Unnamed: 0</th>\n",
       "      <th>Movie_name</th>\n",
       "      <th>Year</th>\n",
       "      <th>Metascore</th>\n",
       "      <th>IMDB_score</th>\n",
       "      <th>Movie_rating</th>\n",
       "      <th>Votes</th>\n",
       "      <th>Domestic_gross</th>\n",
       "      <th>Director</th>\n",
       "      <th>Genres</th>\n",
       "    </tr>\n",
       "  </thead>\n",
       "  <tbody>\n",
       "    <tr>\n",
       "      <th>0</th>\n",
       "      <td>0</td>\n",
       "      <td>The Trial of the Chicago 7</td>\n",
       "      <td>2020</td>\n",
       "      <td>76.0</td>\n",
       "      <td>7.9</td>\n",
       "      <td>R</td>\n",
       "      <td>51023</td>\n",
       "      <td>NaN</td>\n",
       "      <td>Aaron Sorkin</td>\n",
       "      <td>Drama, History, Thriller</td>\n",
       "    </tr>\n",
       "    <tr>\n",
       "      <th>1</th>\n",
       "      <td>1</td>\n",
       "      <td>Halloween</td>\n",
       "      <td>1978</td>\n",
       "      <td>87.0</td>\n",
       "      <td>7.8</td>\n",
       "      <td>R</td>\n",
       "      <td>229669</td>\n",
       "      <td>47.00</td>\n",
       "      <td>John Carpenter</td>\n",
       "      <td>Horror, Thriller</td>\n",
       "    </tr>\n",
       "    <tr>\n",
       "      <th>2</th>\n",
       "      <td>2</td>\n",
       "      <td>Tenet</td>\n",
       "      <td>2020</td>\n",
       "      <td>69.0</td>\n",
       "      <td>7.8</td>\n",
       "      <td>PG-13</td>\n",
       "      <td>143111</td>\n",
       "      <td>53.80</td>\n",
       "      <td>Christopher Nolan</td>\n",
       "      <td>Action, Sci-Fi</td>\n",
       "    </tr>\n",
       "    <tr>\n",
       "      <th>3</th>\n",
       "      <td>3</td>\n",
       "      <td>The Untouchables</td>\n",
       "      <td>1987</td>\n",
       "      <td>79.0</td>\n",
       "      <td>7.9</td>\n",
       "      <td>R</td>\n",
       "      <td>276401</td>\n",
       "      <td>76.27</td>\n",
       "      <td>Brian De Palma</td>\n",
       "      <td>Crime, Drama, Thriller</td>\n",
       "    </tr>\n",
       "    <tr>\n",
       "      <th>4</th>\n",
       "      <td>4</td>\n",
       "      <td>The Nightmare Before Christmas</td>\n",
       "      <td>1993</td>\n",
       "      <td>82.0</td>\n",
       "      <td>8.0</td>\n",
       "      <td>PG</td>\n",
       "      <td>292915</td>\n",
       "      <td>75.08</td>\n",
       "      <td>Henry Selick</td>\n",
       "      <td>Animation, Family, Fantasy</td>\n",
       "    </tr>\n",
       "  </tbody>\n",
       "</table>\n",
       "</div>"
      ],
      "text/plain": [
       "   Unnamed: 0                      Movie_name  Year  Metascore  IMDB_score  \\\n",
       "0           0      The Trial of the Chicago 7  2020       76.0         7.9   \n",
       "1           1                       Halloween  1978       87.0         7.8   \n",
       "2           2                           Tenet  2020       69.0         7.8   \n",
       "3           3                The Untouchables  1987       79.0         7.9   \n",
       "4           4  The Nightmare Before Christmas  1993       82.0         8.0   \n",
       "\n",
       "  Movie_rating   Votes  Domestic_gross           Director  \\\n",
       "0            R   51023             NaN       Aaron Sorkin   \n",
       "1            R  229669           47.00     John Carpenter   \n",
       "2        PG-13  143111           53.80  Christopher Nolan   \n",
       "3            R  276401           76.27     Brian De Palma   \n",
       "4           PG  292915           75.08       Henry Selick   \n",
       "\n",
       "                                   Genres  \n",
       "0    Drama, History, Thriller              \n",
       "1            Horror, Thriller              \n",
       "2              Action, Sci-Fi              \n",
       "3      Crime, Drama, Thriller              \n",
       "4  Animation, Family, Fantasy              "
      ]
     },
     "execution_count": 4,
     "metadata": {},
     "output_type": "execute_result"
    }
   ],
   "source": [
    "df.head()"
   ]
  },
  {
   "cell_type": "code",
   "execution_count": 4,
   "metadata": {
    "ExecuteTime": {
     "end_time": "2020-11-11T16:11:14.457644Z",
     "start_time": "2020-11-11T16:11:14.443879Z"
    }
   },
   "outputs": [
    {
     "data": {
      "text/plain": [
       "Unnamed: 0          0\n",
       "Movie_name          0\n",
       "Year                0\n",
       "Metascore         153\n",
       "IMDB_score          0\n",
       "Movie_rating       14\n",
       "Votes               0\n",
       "Domestic_gross    160\n",
       "Director            0\n",
       "Genres              0\n",
       "dtype: int64"
      ]
     },
     "execution_count": 4,
     "metadata": {},
     "output_type": "execute_result"
    }
   ],
   "source": [
    "df.isnull().sum()"
   ]
  },
  {
   "cell_type": "code",
   "execution_count": null,
   "metadata": {},
   "outputs": [],
   "source": [
    "df.drop(['Metascore', 'Votes'], axis = 1, inplace = True)"
   ]
  },
  {
   "cell_type": "code",
   "execution_count": 7,
   "metadata": {
    "ExecuteTime": {
     "end_time": "2020-11-12T12:26:02.716386Z",
     "start_time": "2020-11-12T12:26:02.709071Z"
    }
   },
   "outputs": [],
   "source": [
    "#Turning off the options that limits the display\n",
    "pd.options.display.max_columns = None\n",
    "pd.options.display.max_rows = None"
   ]
  },
  {
   "cell_type": "code",
   "execution_count": 8,
   "metadata": {
    "ExecuteTime": {
     "end_time": "2020-11-12T12:30:05.035555Z",
     "start_time": "2020-11-12T12:30:04.964265Z"
    }
   },
   "outputs": [],
   "source": [
    "#Since we had several genres that apply to each movie, we split them by primary and secondary genres\n",
    "df['Primary_Genre'] = df.Genres.str.split(',', n = 1, expand = True)[0]\n",
    "df['Secondary_Genre'] = df.Genres.str.split(',', n = 1, expand = True)[1]"
   ]
  },
  {
   "cell_type": "code",
   "execution_count": 10,
   "metadata": {
    "ExecuteTime": {
     "end_time": "2020-11-12T12:30:39.459578Z",
     "start_time": "2020-11-12T12:30:39.420868Z"
    },
    "scrolled": true
   },
   "outputs": [
    {
     "data": {
      "text/plain": [
       "Drama                   205\n",
       "Action                  172\n",
       "Comedy                  144\n",
       "Crime                   107\n",
       "Biography                84\n",
       "Animation                83\n",
       "Drama                    83\n",
       "Adventure                72\n",
       "Comedy                   14\n",
       "Mystery                  13\n",
       "Horror                    9\n",
       "Western                   4\n",
       "Film-Noir                 3\n",
       "Fantasy                   2\n",
       "Family                    2\n",
       "Horror                    2\n",
       "Thriller                  1\n",
       "Name: Primary_Genre, dtype: int64"
      ]
     },
     "execution_count": 10,
     "metadata": {},
     "output_type": "execute_result"
    }
   ],
   "source": [
    "#Now we're seeing how many movies are in each genre\n",
    "df['Primary_Genre'].value_counts()"
   ]
  },
  {
   "cell_type": "code",
   "execution_count": 11,
   "metadata": {
    "ExecuteTime": {
     "end_time": "2020-11-12T13:24:59.868715Z",
     "start_time": "2020-11-12T13:24:59.781599Z"
    }
   },
   "outputs": [],
   "source": [
    "#creating individual dataframes for each genre to make plotting easier\n",
    "drama_df = df[(df['Primary_Genre'] == 'Drama')]\n",
    "action_df = df[(df['Primary_Genre'] == 'Action')]\n",
    "comedy_df = df[(df['Primary_Genre'] == 'Comedy')]\n",
    "crime_df = df[(df['Primary_Genre'] == 'Crime')]\n",
    "bio_df = df[(df['Primary_Genre'] == 'Biography')]"
   ]
  },
  {
   "cell_type": "code",
   "execution_count": 12,
   "metadata": {
    "ExecuteTime": {
     "end_time": "2020-11-12T13:33:25.867184Z",
     "start_time": "2020-11-12T13:33:25.820851Z"
    }
   },
   "outputs": [
    {
     "data": {
      "text/html": [
       "<div>\n",
       "<style scoped>\n",
       "    .dataframe tbody tr th:only-of-type {\n",
       "        vertical-align: middle;\n",
       "    }\n",
       "\n",
       "    .dataframe tbody tr th {\n",
       "        vertical-align: top;\n",
       "    }\n",
       "\n",
       "    .dataframe thead th {\n",
       "        text-align: right;\n",
       "    }\n",
       "</style>\n",
       "<table border=\"1\" class=\"dataframe\">\n",
       "  <thead>\n",
       "    <tr style=\"text-align: right;\">\n",
       "      <th></th>\n",
       "      <th>Unnamed: 0</th>\n",
       "      <th>Movie_name</th>\n",
       "      <th>Year</th>\n",
       "      <th>Metascore</th>\n",
       "      <th>IMDB_score</th>\n",
       "      <th>Movie_rating</th>\n",
       "      <th>Votes</th>\n",
       "      <th>Domestic_gross</th>\n",
       "      <th>Director</th>\n",
       "      <th>Genres</th>\n",
       "      <th>Primary_Genre</th>\n",
       "      <th>Secondary_Genre</th>\n",
       "    </tr>\n",
       "  </thead>\n",
       "  <tbody>\n",
       "    <tr>\n",
       "      <th>0</th>\n",
       "      <td>0</td>\n",
       "      <td>The Trial of the Chicago 7</td>\n",
       "      <td>2020</td>\n",
       "      <td>76.0</td>\n",
       "      <td>7.9</td>\n",
       "      <td>R</td>\n",
       "      <td>51023</td>\n",
       "      <td>NaN</td>\n",
       "      <td>Aaron Sorkin</td>\n",
       "      <td>Drama, History, Thriller</td>\n",
       "      <td>Drama</td>\n",
       "      <td>History, Thriller</td>\n",
       "    </tr>\n",
       "    <tr>\n",
       "      <th>10</th>\n",
       "      <td>10</td>\n",
       "      <td>The Shining</td>\n",
       "      <td>1980</td>\n",
       "      <td>66.0</td>\n",
       "      <td>8.4</td>\n",
       "      <td>R</td>\n",
       "      <td>882908</td>\n",
       "      <td>44.02</td>\n",
       "      <td>Stanley Kubrick</td>\n",
       "      <td>Drama, Horror</td>\n",
       "      <td>Drama</td>\n",
       "      <td>Horror</td>\n",
       "    </tr>\n",
       "    <tr>\n",
       "      <th>18</th>\n",
       "      <td>18</td>\n",
       "      <td>1917</td>\n",
       "      <td>2019</td>\n",
       "      <td>78.0</td>\n",
       "      <td>8.3</td>\n",
       "      <td>R</td>\n",
       "      <td>387027</td>\n",
       "      <td>159.23</td>\n",
       "      <td>Sam Mendes</td>\n",
       "      <td>Drama, War</td>\n",
       "      <td>Drama</td>\n",
       "      <td>War</td>\n",
       "    </tr>\n",
       "    <tr>\n",
       "      <th>29</th>\n",
       "      <td>29</td>\n",
       "      <td>Rebecca</td>\n",
       "      <td>1940</td>\n",
       "      <td>86.0</td>\n",
       "      <td>8.1</td>\n",
       "      <td>Approved</td>\n",
       "      <td>121733</td>\n",
       "      <td>4.36</td>\n",
       "      <td>Alfred Hitchcock</td>\n",
       "      <td>Drama, Mystery, Romance</td>\n",
       "      <td>Drama</td>\n",
       "      <td>Mystery, Romance</td>\n",
       "    </tr>\n",
       "    <tr>\n",
       "      <th>39</th>\n",
       "      <td>39</td>\n",
       "      <td>Little Women</td>\n",
       "      <td>2019</td>\n",
       "      <td>91.0</td>\n",
       "      <td>7.8</td>\n",
       "      <td>PG</td>\n",
       "      <td>130459</td>\n",
       "      <td>108.10</td>\n",
       "      <td>Greta Gerwig</td>\n",
       "      <td>Drama, Romance</td>\n",
       "      <td>Drama</td>\n",
       "      <td>Romance</td>\n",
       "    </tr>\n",
       "  </tbody>\n",
       "</table>\n",
       "</div>"
      ],
      "text/plain": [
       "    Unnamed: 0                  Movie_name  Year  Metascore  IMDB_score  \\\n",
       "0            0  The Trial of the Chicago 7  2020       76.0         7.9   \n",
       "10          10                 The Shining  1980       66.0         8.4   \n",
       "18          18                        1917  2019       78.0         8.3   \n",
       "29          29                     Rebecca  1940       86.0         8.1   \n",
       "39          39                Little Women  2019       91.0         7.8   \n",
       "\n",
       "   Movie_rating   Votes  Domestic_gross          Director  \\\n",
       "0             R   51023             NaN      Aaron Sorkin   \n",
       "10            R  882908           44.02   Stanley Kubrick   \n",
       "18            R  387027          159.23        Sam Mendes   \n",
       "29     Approved  121733            4.36  Alfred Hitchcock   \n",
       "39           PG  130459          108.10      Greta Gerwig   \n",
       "\n",
       "                                  Genres Primary_Genre  \\\n",
       "0   Drama, History, Thriller                     Drama   \n",
       "10             Drama, Horror                     Drama   \n",
       "18                Drama, War                     Drama   \n",
       "29   Drama, Mystery, Romance                     Drama   \n",
       "39            Drama, Romance                     Drama   \n",
       "\n",
       "                   Secondary_Genre  \n",
       "0    History, Thriller              \n",
       "10              Horror              \n",
       "18                 War              \n",
       "29    Mystery, Romance              \n",
       "39             Romance              "
      ]
     },
     "execution_count": 12,
     "metadata": {},
     "output_type": "execute_result"
    }
   ],
   "source": [
    "drama_df.head()"
   ]
  },
  {
   "cell_type": "code",
   "execution_count": 5,
   "metadata": {},
   "outputs": [
    {
     "data": {
      "text/plain": [
       "160"
      ]
     },
     "execution_count": 5,
     "metadata": {},
     "output_type": "execute_result"
    }
   ],
   "source": [
    "df.Domestic_gross.isna().sum()"
   ]
  },
  {
   "cell_type": "code",
   "execution_count": 7,
   "metadata": {},
   "outputs": [
    {
     "data": {
      "text/plain": [
       "(1000, 10)"
      ]
     },
     "execution_count": 7,
     "metadata": {},
     "output_type": "execute_result"
    }
   ],
   "source": [
    "df.shape"
   ]
  },
  {
   "cell_type": "code",
   "execution_count": 15,
   "metadata": {
    "ExecuteTime": {
     "end_time": "2020-11-12T13:42:33.730777Z",
     "start_time": "2020-11-12T13:42:33.283117Z"
    }
   },
   "outputs": [
    {
     "data": {
      "image/png": "[encoded data removed]",
      "text/plain": [
       "<Figure size 432x288 with 1 Axes>"
      ]
     },
     "metadata": {
      "needs_background": "light"
     },
     "output_type": "display_data"
    }
   ],
   "source": [
    "y = drama_df.groupby(['Movie_rating'])['Domestic_gross'].mean()\n",
    "x = y.index\n",
    "plt.plot(x,y,label = 'Drama')\n",
    "\n",
    "plt.title('Ratio of Rating vs Gross Revenue for a Genre')\n",
    "plt.ylabel('Gross Revenue')\n",
    "plt.xlabel('Rating')\n",
    "plt.show()"
   ]
  },
  {
   "cell_type": "code",
   "execution_count": null,
   "metadata": {},
   "outputs": [],
   "source": []
  }
 ],
 "metadata": {
  "kernelspec": {
   "display_name": "learn-env",
   "language": "python",
   "name": "learn-env"
  },
  "language_info": {
   "codemirror_mode": {
    "name": "ipython",
    "version": 3
   },
   "file_extension": ".py",
   "mimetype": "text/x-python",
   "name": "python",
   "nbconvert_exporter": "python",
   "pygments_lexer": "ipython3",
   "version": "3.6.9"
  },
  "latex_envs": {
   "LaTeX_envs_menu_present": true,
   "autoclose": false,
   "autocomplete": true,
   "bibliofile": "biblio.bib",
   "cite_by": "apalike",
   "current_citInitial": 1,
   "eqLabelWithNumbers": true,
   "eqNumInitial": 1,
   "hotkeys": {
    "equation": "Ctrl-E",
    "itemize": "Ctrl-I"
   },
   "labels_anchors": false,
   "latex_user_defs": false,
   "report_style_numbering": false,
   "user_envs_cfg": false
  },
  "toc": {
   "base_numbering": 1,
   "nav_menu": {},
   "number_sections": true,
   "sideBar": true,
   "skip_h1_title": false,
   "title_cell": "Table of Contents",
   "title_sidebar": "Contents",
   "toc_cell": false,
   "toc_position": {},
   "toc_section_display": true,
   "toc_window_display": false
  }
 },
 "nbformat": 4,
 "nbformat_minor": 4
}
