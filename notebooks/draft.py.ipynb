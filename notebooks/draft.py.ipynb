{
 "cells": [
  {
   "cell_type": "code",
   "execution_count": 9,
   "metadata": {},
   "outputs": [],
   "source": [
    "import pandas as pd \n",
    "import numpy as np \n",
    "import json \n",
    "import matplotlib.pyplot as plt \n",
    "%matplotlib inline"
   ]
  },
  {
   "cell_type": "code",
   "execution_count": 10,
   "metadata": {},
   "outputs": [],
   "source": [
    "import random \n",
    "import requests\n",
    "from bs4 import BeautifulSoup\n",
    "import json"
   ]
  },
  {
   "cell_type": "code",
   "execution_count": 11,
   "metadata": {},
   "outputs": [
    {
     "data": {
      "text/plain": [
       "str"
      ]
     },
     "execution_count": 11,
     "metadata": {},
     "output_type": "execute_result"
    }
   ],
   "source": [
    "url = 'https://www.imdb.com/chart/top'\n",
    "response = requests.get(url)\n",
    "\n",
    "type(response.text)"
   ]
  },
  {
   "cell_type": "code",
   "execution_count": 12,
   "metadata": {},
   "outputs": [],
   "source": [
    "#Raw html data \n",
    "#response.text"
   ]
  },
  {
   "cell_type": "code",
   "execution_count": 15,
   "metadata": {},
   "outputs": [],
   "source": [
    "soup = BeautifulSoup(response.text, 'html.parser')"
   ]
  },
  {
   "cell_type": "code",
   "execution_count": 8,
   "metadata": {},
   "outputs": [],
   "source": [
    "#soup"
   ]
  },
  {
   "cell_type": "code",
   "execution_count": 17,
   "metadata": {},
   "outputs": [
    {
     "data": {
      "text/plain": [
       "bs4.BeautifulSoup"
      ]
     },
     "execution_count": 17,
     "metadata": {},
     "output_type": "execute_result"
    }
   ],
   "source": [
    "type(soup)"
   ]
  },
  {
   "cell_type": "code",
   "execution_count": 18,
   "metadata": {},
   "outputs": [],
   "source": [
    "movietags = soup.select('td.titleColumn')"
   ]
  },
  {
   "cell_type": "code",
   "execution_count": 10,
   "metadata": {},
   "outputs": [],
   "source": [
    "#movietags[0]"
   ]
  },
  {
   "cell_type": "code",
   "execution_count": null,
   "metadata": {},
   "outputs": [],
   "source": []
  },
  {
   "cell_type": "markdown",
   "metadata": {},
   "source": [
    "Making Api Calls "
   ]
  },
  {
   "cell_type": "code",
   "execution_count": 1,
   "metadata": {},
   "outputs": [],
   "source": [
    "api_key = \"69ad870bdcbbf9cc540c7a4e4d400bed\""
   ]
  },
  {
   "cell_type": "code",
   "execution_count": 13,
   "metadata": {},
   "outputs": [],
   "source": [
    "response = requests.get('https://api.themoviedb.org/3/movie/550?api_key=69ad870bdcbbf9cc540c7a4e4d400bed')"
   ]
  },
  {
   "cell_type": "code",
   "execution_count": 9,
   "metadata": {},
   "outputs": [],
   "source": [
    "#response.text"
   ]
  },
  {
   "cell_type": "code",
   "execution_count": 16,
   "metadata": {},
   "outputs": [],
   "source": [
    "soup = BeautifulSoup(response.text, \"html.parser\")"
   ]
  },
  {
   "cell_type": "code",
   "execution_count": 8,
   "metadata": {},
   "outputs": [],
   "source": [
    "#print(soup.prettify())"
   ]
  },
  {
   "cell_type": "code",
   "execution_count": 26,
   "metadata": {},
   "outputs": [
    {
     "name": "stdout",
     "output_type": "stream",
     "text": [
      "<list_iterator object at 0x7f9b76895e48>\n"
     ]
    }
   ],
   "source": [
    "print(soup.children)"
   ]
  },
  {
   "cell_type": "code",
   "execution_count": 27,
   "metadata": {},
   "outputs": [],
   "source": [
    "#Webscrape ESPN \n"
   ]
  },
  {
   "cell_type": "code",
   "execution_count": 28,
   "metadata": {},
   "outputs": [],
   "source": [
    "response2 = requests.get('https://www.espn.com/nfl/team/roster/_/name/buf')"
   ]
  },
  {
   "cell_type": "code",
   "execution_count": 29,
   "metadata": {},
   "outputs": [
    {
     "data": {
      "text/plain": [
       "200"
      ]
     },
     "execution_count": 29,
     "metadata": {},
     "output_type": "execute_result"
    }
   ],
   "source": [
    "response2.status_code"
   ]
  },
  {
   "cell_type": "code",
   "execution_count": 30,
   "metadata": {},
   "outputs": [],
   "source": [
    "bills = BeautifulSoup(response2.text, 'html.parser')"
   ]
  },
  {
   "cell_type": "code",
   "execution_count": 7,
   "metadata": {},
   "outputs": [],
   "source": [
    "#bills"
   ]
  },
  {
   "cell_type": "code",
   "execution_count": 39,
   "metadata": {},
   "outputs": [
    {
     "data": {
      "text/plain": [
       "bs4.BeautifulSoup"
      ]
     },
     "execution_count": 39,
     "metadata": {},
     "output_type": "execute_result"
    }
   ],
   "source": [
    "type(bills)"
   ]
  },
  {
   "cell_type": "code",
   "execution_count": 40,
   "metadata": {},
   "outputs": [],
   "source": [
    "something = bills.select('id.fitt-analytics')"
   ]
  },
  {
   "cell_type": "code",
   "execution_count": 41,
   "metadata": {},
   "outputs": [
    {
     "data": {
      "text/plain": [
       "[]"
      ]
     },
     "execution_count": 41,
     "metadata": {},
     "output_type": "execute_result"
    }
   ],
   "source": [
    "something"
   ]
  },
  {
   "cell_type": "code",
   "execution_count": 1,
   "metadata": {},
   "outputs": [],
   "source": [
    "import requests\n",
    "from bs4 import BeautifulSoup\n",
    "import json"
   ]
  },
  {
   "cell_type": "code",
   "execution_count": 2,
   "metadata": {},
   "outputs": [],
   "source": [
    "response = requests.get('https://www.imdb.com/chart/top/?ref_=nv_mv_250')"
   ]
  },
  {
   "cell_type": "code",
   "execution_count": 3,
   "metadata": {},
   "outputs": [
    {
     "data": {
      "text/plain": [
       "200"
      ]
     },
     "execution_count": 3,
     "metadata": {},
     "output_type": "execute_result"
    }
   ],
   "source": [
    "response.status_code"
   ]
  },
  {
   "cell_type": "code",
   "execution_count": 4,
   "metadata": {},
   "outputs": [],
   "source": [
    "soup = BeautifulSoup(response.text, 'html.parser')"
   ]
  },
  {
   "cell_type": "code",
   "execution_count": 6,
   "metadata": {},
   "outputs": [],
   "source": [
    "#soup"
   ]
  },
  {
   "cell_type": "code",
   "execution_count": 5,
   "metadata": {},
   "outputs": [],
   "source": [
    "#print(soup.prettify())"
   ]
  },
  {
   "cell_type": "code",
   "execution_count": 4,
   "metadata": {},
   "outputs": [],
   "source": [
    "#print(list(soup.children))"
   ]
  },
  {
   "cell_type": "code",
   "execution_count": 9,
   "metadata": {},
   "outputs": [
    {
     "name": "stdout",
     "output_type": "stream",
     "text": [
      "[<p>The Top Rated Movie list only includes theatrical features.</p>, <p class=\"imdb-footer__copyright _2-iNNCFskmr4l2OFN2DRsf\">© 1990-<!-- -->2020<!-- --> by IMDb.com, Inc.</p>]\n"
     ]
    }
   ],
   "source": [
    "print(soup.find_all('p'))"
   ]
  },
  {
   "cell_type": "code",
   "execution_count": 3,
   "metadata": {},
   "outputs": [],
   "source": [
    "#print(soup.select('td.titleColumn'))"
   ]
  },
  {
   "cell_type": "code",
   "execution_count": 11,
   "metadata": {},
   "outputs": [],
   "source": [
    "movietags = soup.select('td.titleColumn')"
   ]
  },
  {
   "cell_type": "code",
   "execution_count": 14,
   "metadata": {},
   "outputs": [
    {
     "data": {
      "text/plain": [
       "<td class=\"titleColumn\">\n",
       "      1.\n",
       "      <a href=\"/title/tt0111161/\" title=\"Frank Darabont (dir.), Tim Robbins, Morgan Freeman\">The Shawshank Redemption</a>\n",
       "<span class=\"secondaryInfo\">(1994)</span>\n",
       "</td>"
      ]
     },
     "execution_count": 14,
     "metadata": {},
     "output_type": "execute_result"
    }
   ],
   "source": [
    "movietags[0]"
   ]
  },
  {
   "cell_type": "code",
   "execution_count": 1,
   "metadata": {},
   "outputs": [
    {
     "ename": "NameError",
     "evalue": "name 'soup' is not defined",
     "output_type": "error",
     "traceback": [
      "\u001b[0;31m---------------------------------------------------------------------------\u001b[0m",
      "\u001b[0;31mNameError\u001b[0m                                 Traceback (most recent call last)",
      "\u001b[0;32m<ipython-input-1-520bf01309c8>\u001b[0m in \u001b[0;36m<module>\u001b[0;34m()\u001b[0m\n\u001b[0;32m----> 1\u001b[0;31m \u001b[0minner_movietags\u001b[0m \u001b[0;34m=\u001b[0m \u001b[0msoup\u001b[0m\u001b[0;34m.\u001b[0m\u001b[0mselect\u001b[0m\u001b[0;34m(\u001b[0m\u001b[0;34m'td.titleColumn a'\u001b[0m\u001b[0;34m)\u001b[0m\u001b[0;34m\u001b[0m\u001b[0;34m\u001b[0m\u001b[0m\n\u001b[0m\u001b[1;32m      2\u001b[0m \u001b[0;31m#inner_movietags\u001b[0m\u001b[0;34m\u001b[0m\u001b[0;34m\u001b[0m\u001b[0;34m\u001b[0m\u001b[0m\n",
      "\u001b[0;31mNameError\u001b[0m: name 'soup' is not defined"
     ]
    }
   ],
   "source": [
    "inner_movietags = soup.select('td.titleColumn a')\n",
    "#inner_movietags"
   ]
  },
  {
   "cell_type": "code",
   "execution_count": 25,
   "metadata": {},
   "outputs": [
    {
     "data": {
      "text/plain": [
       "'Frank Darabont (dir.), Tim Robbins, Morgan Freeman'"
      ]
     },
     "execution_count": 25,
     "metadata": {},
     "output_type": "execute_result"
    }
   ],
   "source": [
    "actors_1 = inner_movietags[0]['title']\n",
    "actors_1"
   ]
  },
  {
   "cell_type": "code",
   "execution_count": 54,
   "metadata": {},
   "outputs": [],
   "source": [
    "actor_list = []\n",
    "for i in range(len(inner_movietags)): \n",
    "    actor_list.append([i, inner_movietags[i]['title']])\n",
    "\n",
    "    "
   ]
  },
  {
   "cell_type": "code",
   "execution_count": 2,
   "metadata": {},
   "outputs": [],
   "source": [
    "#actor_list"
   ]
  },
  {
   "cell_type": "code",
   "execution_count": 58,
   "metadata": {},
   "outputs": [],
   "source": [
    "import pandas as pd \n",
    "from pandas import DataFrame\n"
   ]
  },
  {
   "cell_type": "code",
   "execution_count": 65,
   "metadata": {},
   "outputs": [],
   "source": [
    "actors_df = DataFrame(actor_list, columns=['Director', 'Starting 1'])"
   ]
  },
  {
   "cell_type": "code",
   "execution_count": 67,
   "metadata": {},
   "outputs": [
    {
     "data": {
      "text/html": [
       "<div>\n",
       "<style scoped>\n",
       "    .dataframe tbody tr th:only-of-type {\n",
       "        vertical-align: middle;\n",
       "    }\n",
       "\n",
       "    .dataframe tbody tr th {\n",
       "        vertical-align: top;\n",
       "    }\n",
       "\n",
       "    .dataframe thead th {\n",
       "        text-align: right;\n",
       "    }\n",
       "</style>\n",
       "<table border=\"1\" class=\"dataframe\">\n",
       "  <thead>\n",
       "    <tr style=\"text-align: right;\">\n",
       "      <th></th>\n",
       "      <th>Director</th>\n",
       "      <th>Starting 1</th>\n",
       "    </tr>\n",
       "  </thead>\n",
       "  <tbody>\n",
       "    <tr>\n",
       "      <th>0</th>\n",
       "      <td>0</td>\n",
       "      <td>Frank Darabont (dir.), Tim Robbins, Morgan Fre...</td>\n",
       "    </tr>\n",
       "    <tr>\n",
       "      <th>1</th>\n",
       "      <td>1</td>\n",
       "      <td>Francis Ford Coppola (dir.), Marlon Brando, Al...</td>\n",
       "    </tr>\n",
       "    <tr>\n",
       "      <th>2</th>\n",
       "      <td>2</td>\n",
       "      <td>Francis Ford Coppola (dir.), Al Pacino, Robert...</td>\n",
       "    </tr>\n",
       "    <tr>\n",
       "      <th>3</th>\n",
       "      <td>3</td>\n",
       "      <td>Christopher Nolan (dir.), Christian Bale, Heat...</td>\n",
       "    </tr>\n",
       "    <tr>\n",
       "      <th>4</th>\n",
       "      <td>4</td>\n",
       "      <td>Sidney Lumet (dir.), Henry Fonda, Lee J. Cobb</td>\n",
       "    </tr>\n",
       "    <tr>\n",
       "      <th>...</th>\n",
       "      <td>...</td>\n",
       "      <td>...</td>\n",
       "    </tr>\n",
       "    <tr>\n",
       "      <th>245</th>\n",
       "      <td>245</td>\n",
       "      <td>Gillo Pontecorvo (dir.), Brahim Hadjadj, Jean ...</td>\n",
       "    </tr>\n",
       "    <tr>\n",
       "      <th>246</th>\n",
       "      <td>246</td>\n",
       "      <td>James Cameron (dir.), Arnold Schwarzenegger, L...</td>\n",
       "    </tr>\n",
       "    <tr>\n",
       "      <th>247</th>\n",
       "      <td>247</td>\n",
       "      <td>Naoko Yamada (dir.), Miyu Irino, Saori Hayami</td>\n",
       "    </tr>\n",
       "    <tr>\n",
       "      <th>248</th>\n",
       "      <td>248</td>\n",
       "      <td>Zaza Urushadze (dir.), Lembit Ulfsak, Elmo Nüg...</td>\n",
       "    </tr>\n",
       "    <tr>\n",
       "      <th>249</th>\n",
       "      <td>249</td>\n",
       "      <td>Ron Clements (dir.), Scott Weinger, Robin Will...</td>\n",
       "    </tr>\n",
       "  </tbody>\n",
       "</table>\n",
       "<p>250 rows × 2 columns</p>\n",
       "</div>"
      ],
      "text/plain": [
       "     Director                                         Starting 1\n",
       "0           0  Frank Darabont (dir.), Tim Robbins, Morgan Fre...\n",
       "1           1  Francis Ford Coppola (dir.), Marlon Brando, Al...\n",
       "2           2  Francis Ford Coppola (dir.), Al Pacino, Robert...\n",
       "3           3  Christopher Nolan (dir.), Christian Bale, Heat...\n",
       "4           4      Sidney Lumet (dir.), Henry Fonda, Lee J. Cobb\n",
       "..        ...                                                ...\n",
       "245       245  Gillo Pontecorvo (dir.), Brahim Hadjadj, Jean ...\n",
       "246       246  James Cameron (dir.), Arnold Schwarzenegger, L...\n",
       "247       247      Naoko Yamada (dir.), Miyu Irino, Saori Hayami\n",
       "248       248  Zaza Urushadze (dir.), Lembit Ulfsak, Elmo Nüg...\n",
       "249       249  Ron Clements (dir.), Scott Weinger, Robin Will...\n",
       "\n",
       "[250 rows x 2 columns]"
      ]
     },
     "execution_count": 67,
     "metadata": {},
     "output_type": "execute_result"
    }
   ],
   "source": [
    "actors_df"
   ]
  },
  {
   "cell_type": "code",
   "execution_count": 28,
   "metadata": {},
   "outputs": [
    {
     "data": {
      "text/plain": [
       "'The Shawshank Redemption'"
      ]
     },
     "execution_count": 28,
     "metadata": {},
     "output_type": "execute_result"
    }
   ],
   "source": [
    "movie_title_1 = inner_movietags[0].text\n",
    "movie_title_1"
   ]
  },
  {
   "cell_type": "code",
   "execution_count": 17,
   "metadata": {},
   "outputs": [],
   "source": [
    "year = soup.select('span.secondaryInfo')"
   ]
  },
  {
   "cell_type": "code",
   "execution_count": 30,
   "metadata": {},
   "outputs": [],
   "source": [
    "year_one = year[0].text"
   ]
  },
  {
   "cell_type": "code",
   "execution_count": 31,
   "metadata": {},
   "outputs": [
    {
     "data": {
      "text/plain": [
       "'(1994)'"
      ]
     },
     "execution_count": 31,
     "metadata": {},
     "output_type": "execute_result"
    }
   ],
   "source": [
    "year_one"
   ]
  },
  {
   "cell_type": "code",
   "execution_count": 43,
   "metadata": {},
   "outputs": [],
   "source": [
    "rating_tags = soup.select('td.posterColumn span[name=ir]')"
   ]
  },
  {
   "cell_type": "code",
   "execution_count": 49,
   "metadata": {},
   "outputs": [
    {
     "data": {
      "text/plain": [
       "'9.222805040597486'"
      ]
     },
     "execution_count": 49,
     "metadata": {},
     "output_type": "execute_result"
    }
   ],
   "source": [
    "rating_tags[0]['data-value']"
   ]
  },
  {
   "cell_type": "code",
   "execution_count": 50,
   "metadata": {},
   "outputs": [
    {
     "data": {
      "text/plain": [
       "250"
      ]
     },
     "execution_count": 50,
     "metadata": {},
     "output_type": "execute_result"
    }
   ],
   "source": [
    "ratings_list = []"
   ]
  },
  {
   "cell_type": "code",
   "execution_count": null,
   "metadata": {},
   "outputs": [],
   "source": []
  },
  {
   "cell_type": "code",
   "execution_count": null,
   "metadata": {},
   "outputs": [],
   "source": []
  },
  {
   "cell_type": "code",
   "execution_count": null,
   "metadata": {},
   "outputs": [],
   "source": []
  },
  {
   "cell_type": "code",
   "execution_count": null,
   "metadata": {},
   "outputs": [],
   "source": []
  },
  {
   "cell_type": "code",
   "execution_count": null,
   "metadata": {},
   "outputs": [],
   "source": []
  },
  {
   "cell_type": "code",
   "execution_count": null,
   "metadata": {},
   "outputs": [],
   "source": []
  },
  {
   "cell_type": "code",
   "execution_count": null,
   "metadata": {},
   "outputs": [],
   "source": []
  },
  {
   "cell_type": "code",
   "execution_count": null,
   "metadata": {},
   "outputs": [],
   "source": []
  },
  {
   "cell_type": "code",
   "execution_count": null,
   "metadata": {},
   "outputs": [],
   "source": []
  },
  {
   "cell_type": "code",
   "execution_count": null,
   "metadata": {},
   "outputs": [],
   "source": []
  },
  {
   "cell_type": "code",
   "execution_count": null,
   "metadata": {},
   "outputs": [],
   "source": []
  },
  {
   "cell_type": "code",
   "execution_count": null,
   "metadata": {},
   "outputs": [],
   "source": []
  },
  {
   "cell_type": "code",
   "execution_count": 13,
   "metadata": {},
   "outputs": [],
   "source": [
    "import requests \n",
    "import json\n",
    "import pandas as pd"
   ]
  },
  {
   "cell_type": "code",
   "execution_count": 14,
   "metadata": {},
   "outputs": [],
   "source": [
    "movie_db = requests.get('https://api.themoviedb.org/3/movie/550?api_key=69ad870bdcbbf9cc540c7a4e4d400bed')"
   ]
  },
  {
   "cell_type": "code",
   "execution_count": 15,
   "metadata": {},
   "outputs": [
    {
     "data": {
      "text/plain": [
       "200"
      ]
     },
     "execution_count": 15,
     "metadata": {},
     "output_type": "execute_result"
    }
   ],
   "source": [
    "movie_db.status_code"
   ]
  },
  {
   "cell_type": "code",
   "execution_count": 16,
   "metadata": {},
   "outputs": [],
   "source": [
    "movie_db = json.loads(movie_db.text)"
   ]
  },
  {
   "cell_type": "code",
   "execution_count": 17,
   "metadata": {},
   "outputs": [],
   "source": [
    "#movie_db"
   ]
  },
  {
   "cell_type": "code",
   "execution_count": 18,
   "metadata": {},
   "outputs": [],
   "source": [
    "# for key in movie_db.keys(): \n",
    "#     print(key)"
   ]
  },
  {
   "cell_type": "code",
   "execution_count": 19,
   "metadata": {},
   "outputs": [
    {
     "data": {
      "text/plain": [
       "'Fight Club'"
      ]
     },
     "execution_count": 19,
     "metadata": {},
     "output_type": "execute_result"
    }
   ],
   "source": [
    "movie_title = movie_db['title']\n",
    "movie_title"
   ]
  },
  {
   "cell_type": "code",
   "execution_count": 20,
   "metadata": {},
   "outputs": [],
   "source": [
    "flight_club_info = {'title': movie_db['title'], 'budget': movie_db['budget'], 'revenue': movie_db['revenue'], 'popularity': movie_db['popularity']}"
   ]
  },
  {
   "cell_type": "code",
   "execution_count": 21,
   "metadata": {},
   "outputs": [
    {
     "data": {
      "text/plain": [
       "{'title': 'Fight Club',\n",
       " 'budget': 63000000,\n",
       " 'revenue': 100853753,\n",
       " 'popularity': 36.25}"
      ]
     },
     "execution_count": 21,
     "metadata": {},
     "output_type": "execute_result"
    }
   ],
   "source": [
    "flight_club_info"
   ]
  },
  {
   "cell_type": "code",
   "execution_count": 22,
   "metadata": {},
   "outputs": [
    {
     "data": {
      "text/html": [
       "<div>\n",
       "<style scoped>\n",
       "    .dataframe tbody tr th:only-of-type {\n",
       "        vertical-align: middle;\n",
       "    }\n",
       "\n",
       "    .dataframe tbody tr th {\n",
       "        vertical-align: top;\n",
       "    }\n",
       "\n",
       "    .dataframe thead th {\n",
       "        text-align: right;\n",
       "    }\n",
       "</style>\n",
       "<table border=\"1\" class=\"dataframe\">\n",
       "  <thead>\n",
       "    <tr style=\"text-align: right;\">\n",
       "      <th></th>\n",
       "      <th>0</th>\n",
       "    </tr>\n",
       "  </thead>\n",
       "  <tbody>\n",
       "    <tr>\n",
       "      <th>title</th>\n",
       "      <td>Fight Club</td>\n",
       "    </tr>\n",
       "    <tr>\n",
       "      <th>budget</th>\n",
       "      <td>63000000</td>\n",
       "    </tr>\n",
       "    <tr>\n",
       "      <th>revenue</th>\n",
       "      <td>100853753</td>\n",
       "    </tr>\n",
       "    <tr>\n",
       "      <th>popularity</th>\n",
       "      <td>36.25</td>\n",
       "    </tr>\n",
       "  </tbody>\n",
       "</table>\n",
       "</div>"
      ],
      "text/plain": [
       "                     0\n",
       "title       Fight Club\n",
       "budget        63000000\n",
       "revenue      100853753\n",
       "popularity       36.25"
      ]
     },
     "execution_count": 22,
     "metadata": {},
     "output_type": "execute_result"
    }
   ],
   "source": [
    "pd.DataFrame.from_dict(flight_club_info, orient='index')"
   ]
  },
  {
   "cell_type": "markdown",
   "metadata": {},
   "source": [
    "Top Rated Movies"
   ]
  },
  {
   "cell_type": "code",
   "execution_count": 23,
   "metadata": {},
   "outputs": [],
   "source": [
    "top_rated = requests.get('https://api.themoviedb.org/3/movie/top_rated?api_key=69ad870bdcbbf9cc540c7a4e4d400bed&language=en-US&page=1')"
   ]
  },
  {
   "cell_type": "code",
   "execution_count": 90,
   "metadata": {},
   "outputs": [],
   "source": [
    "#top-rated.status_code \n",
    "#top_rated.text"
   ]
  },
  {
   "cell_type": "code",
   "execution_count": 27,
   "metadata": {},
   "outputs": [],
   "source": [
    "top_rated_json = json.loads(top_rated.text)\n"
   ]
  },
  {
   "cell_type": "code",
   "execution_count": 28,
   "metadata": {},
   "outputs": [
    {
     "data": {
      "text/plain": [
       "dict_keys(['page', 'total_results', 'total_pages', 'results'])"
      ]
     },
     "execution_count": 28,
     "metadata": {},
     "output_type": "execute_result"
    }
   ],
   "source": [
    "top_rated_json.keys()"
   ]
  },
  {
   "cell_type": "code",
   "execution_count": 40,
   "metadata": {},
   "outputs": [
    {
     "data": {
      "text/plain": [
       "{'page': 1,\n",
       " 'total_results': 7977,\n",
       " 'total_pages': 399,\n",
       " 'results': [{'popularity': 9.567,\n",
       "   'id': 724089,\n",
       "   'video': False,\n",
       "   'vote_count': 924,\n",
       "   'vote_average': 8.9,\n",
       "   'title': \"Gabriel's Inferno Part II\",\n",
       "   'release_date': '2020-07-31',\n",
       "   'original_language': 'en',\n",
       "   'original_title': \"Gabriel's Inferno Part II\",\n",
       "   'genre_ids': [10749],\n",
       "   'backdrop_path': '/jtAI6OJIWLWiRItNSZoWjrsUtmi.jpg',\n",
       "   'adult': False,\n",
       "   'overview': \"Professor Gabriel Emerson finally learns the truth about Julia Mitchell's identity, but his realization comes a moment too late. Julia is done waiting for the well-respected Dante specialist to remember her and wants nothing more to do with him. Can Gabriel win back her heart before she finds love in another's arms?\",\n",
       "   'poster_path': '/pci1ArYW7oJ2eyTo2NMYEKHHiCP.jpg'},\n",
       "  {'popularity': 10.597,\n",
       "   'vote_count': 1541,\n",
       "   'video': False,\n",
       "   'poster_path': '/oyG9TL7FcRP4EZ9Vid6uKzwdndz.jpg',\n",
       "   'id': 696374,\n",
       "   'adult': False,\n",
       "   'backdrop_path': '/969BfPHGJcjg2aUv60g5uiiXFzf.jpg',\n",
       "   'original_language': 'en',\n",
       "   'original_title': \"Gabriel's Inferno\",\n",
       "   'genre_ids': [10749],\n",
       "   'title': \"Gabriel's Inferno\",\n",
       "   'vote_average': 8.8,\n",
       "   'overview': \"An intriguing and sinful exploration of seduction, forbidden love, and redemption, Gabriel's Inferno is a captivating and wildly passionate tale of one man's escape from his own personal hell as he tries to earn the impossible--forgiveness and love.\",\n",
       "   'release_date': '2020-05-29'},\n",
       "  {'popularity': 19.288,\n",
       "   'vote_count': 257,\n",
       "   'video': False,\n",
       "   'poster_path': '/riAooJrFvVhotyaOgoI0WR7okSe.jpg',\n",
       "   'id': 644479,\n",
       "   'adult': False,\n",
       "   'backdrop_path': '/8g1rUabKleLvovt0Sx6bXgWfC42.jpg',\n",
       "   'original_language': 'es',\n",
       "   'original_title': 'Dedicada a mi ex',\n",
       "   'genre_ids': [35, 18],\n",
       "   'title': 'Dedicated to my ex',\n",
       "   'vote_average': 8.7,\n",
       "   'overview': 'The film tells the story of Ariel, a 21-year-old who decides to form a rock band to compete for a prize of ten thousand dollars in a musical band contest, this as a last option when trying to get money to save their relationship and reunite with his ex-girlfriend, which breaks due to the trip she must make to Finland for an internship. Ariel with her friend Ortega, decides to make a casting to find the other members of the band, although they do not know nothing about music, thus forming a band with members that have diverse and opposite personalities.',\n",
       "   'release_date': '2019-11-01'},\n",
       "  {'popularity': 55.873,\n",
       "   'vote_count': 17496,\n",
       "   'video': False,\n",
       "   'poster_path': '/5KCVkau1HEl7ZzfPsKAPM0sMiKc.jpg',\n",
       "   'id': 278,\n",
       "   'adult': False,\n",
       "   'backdrop_path': '/iNh3BivHyg5sQRPP1KOkzguEX0H.jpg',\n",
       "   'original_language': 'en',\n",
       "   'original_title': 'The Shawshank Redemption',\n",
       "   'genre_ids': [18, 80],\n",
       "   'title': 'The Shawshank Redemption',\n",
       "   'vote_average': 8.7,\n",
       "   'overview': 'Framed in the 1940s for the double murder of his wife and her lover, upstanding banker Andy Dufresne begins a new life at the Shawshank prison, where he puts his accounting skills to work for an amoral warden. During his long stretch in prison, Dufresne comes to be admired by the other inmates -- including an older prisoner named Red -- for his integrity and unquenchable sense of hope.',\n",
       "   'release_date': '1994-09-23'},\n",
       "  {'popularity': 12.878,\n",
       "   'vote_count': 2419,\n",
       "   'video': False,\n",
       "   'poster_path': '/2CAL2433ZeIihfX1Hb2139CX0pW.jpg',\n",
       "   'id': 19404,\n",
       "   'adult': False,\n",
       "   'backdrop_path': '/svYzz6A6xleZv5toTLAhigXd1DX.jpg',\n",
       "   'original_language': 'hi',\n",
       "   'original_title': 'दिलवाले दुल्हनिया ले जायेंगे',\n",
       "   'genre_ids': [35, 18, 10749],\n",
       "   'title': 'Dilwale Dulhania Le Jayenge',\n",
       "   'vote_average': 8.7,\n",
       "   'overview': 'Raj is a rich, carefree, happy-go-lucky second generation NRI. Simran is the daughter of Chaudhary Baldev Singh, who in spite of being an NRI is very strict about adherence to Indian values. Simran has left for India to be married to her childhood fiancé. Raj leaves for India with a mission at his hands, to claim his lady love under the noses of her whole family. Thus begins a saga.',\n",
       "   'release_date': '1995-10-20'},\n",
       "  {'popularity': 41.016,\n",
       "   'vote_count': 13239,\n",
       "   'video': False,\n",
       "   'poster_path': '/3bhkrj58Vtu7enYsRolD1fZdja1.jpg',\n",
       "   'id': 238,\n",
       "   'adult': False,\n",
       "   'backdrop_path': '/rSPw7tgCH9c6NqICZef4kZjFOQ5.jpg',\n",
       "   'original_language': 'en',\n",
       "   'original_title': 'The Godfather',\n",
       "   'genre_ids': [18, 80],\n",
       "   'title': 'The Godfather',\n",
       "   'vote_average': 8.7,\n",
       "   'overview': 'Spanning the years 1945 to 1955, a chronicle of the fictional Italian-American Corleone crime family. When organized crime family patriarch, Vito Corleone barely survives an attempt on his life, his youngest son, Michael steps in to take care of the would-be killers, launching a campaign of bloody revenge.',\n",
       "   'release_date': '1972-03-14'},\n",
       "  {'popularity': 34.175,\n",
       "   'id': 424,\n",
       "   'video': False,\n",
       "   'vote_count': 10535,\n",
       "   'vote_average': 8.6,\n",
       "   'title': \"Schindler's List\",\n",
       "   'release_date': '1993-11-30',\n",
       "   'original_language': 'en',\n",
       "   'original_title': \"Schindler's List\",\n",
       "   'genre_ids': [18, 36, 10752],\n",
       "   'backdrop_path': '/loRmRzQXZeqG78TqZuyvSlEQfZb.jpg',\n",
       "   'adult': False,\n",
       "   'overview': 'The true story of how businessman Oskar Schindler saved over a thousand Jewish lives from the Nazis while they worked as slaves in his factory during World War II.',\n",
       "   'poster_path': '/c8Ass7acuOe4za6DhSattE359gr.jpg'},\n",
       "  {'popularity': 127.751,\n",
       "   'id': 372058,\n",
       "   'video': False,\n",
       "   'vote_count': 6602,\n",
       "   'vote_average': 8.6,\n",
       "   'title': 'Your Name.',\n",
       "   'release_date': '2016-08-26',\n",
       "   'original_language': 'ja',\n",
       "   'original_title': '君の名は。',\n",
       "   'genre_ids': [10749, 16, 18],\n",
       "   'backdrop_path': '/mMtUybQ6hL24FXo0F3Z4j2KG7kZ.jpg',\n",
       "   'adult': False,\n",
       "   'overview': 'High schoolers Mitsuha and Taki are complete strangers living separate lives. But one night, they suddenly switch places. Mitsuha wakes up in Taki’s body, and he in hers. This bizarre occurrence continues to happen randomly, and the two must adjust their lives around each other.',\n",
       "   'poster_path': '/q719jXXEzOoYaps6babgKnONONX.jpg'},\n",
       "  {'popularity': 30.941,\n",
       "   'vote_count': 7858,\n",
       "   'video': False,\n",
       "   'poster_path': '/hek3koDUyRQk7FIhPXsa6mT2Zc3.jpg',\n",
       "   'id': 240,\n",
       "   'adult': False,\n",
       "   'backdrop_path': '/poec6RqOKY9iSiIUmfyfPfiLtvB.jpg',\n",
       "   'original_language': 'en',\n",
       "   'original_title': 'The Godfather: Part II',\n",
       "   'genre_ids': [18, 80],\n",
       "   'title': 'The Godfather: Part II',\n",
       "   'vote_average': 8.6,\n",
       "   'overview': 'In the continuing saga of the Corleone crime family, a young Vito Corleone grows up in Sicily and in 1910s New York. In the 1950s, Michael Corleone attempts to expand the family business into Las Vegas, Hollywood and Cuba.',\n",
       "   'release_date': '1974-12-20'},\n",
       "  {'popularity': 54.105,\n",
       "   'id': 129,\n",
       "   'video': False,\n",
       "   'vote_count': 10377,\n",
       "   'vote_average': 8.5,\n",
       "   'title': 'Spirited Away',\n",
       "   'release_date': '2001-07-20',\n",
       "   'original_language': 'ja',\n",
       "   'original_title': '千と千尋の神隠し',\n",
       "   'genre_ids': [16, 10751, 14],\n",
       "   'backdrop_path': '/mSDsSDwaP3E7dEfUPWy4J0djt4O.jpg',\n",
       "   'adult': False,\n",
       "   'overview': 'A young girl, Chihiro, becomes trapped in a strange new world of spirits. When her parents undergo a mysterious transformation, she must call upon the courage she never knew she had to free her family.',\n",
       "   'poster_path': '/2TeJfUZMGolfDdW6DKhfIWqvq8y.jpg'},\n",
       "  {'popularity': 113.512,\n",
       "   'vote_count': 9683,\n",
       "   'video': False,\n",
       "   'poster_path': '/7IiTTgloJzvGI1TAYymCfbfl3vT.jpg',\n",
       "   'id': 496243,\n",
       "   'adult': False,\n",
       "   'backdrop_path': '/ApiBzeaa95TNYliSbQ8pJv4Fje7.jpg',\n",
       "   'original_language': 'ko',\n",
       "   'original_title': '기생충',\n",
       "   'genre_ids': [35, 53, 18],\n",
       "   'title': 'Parasite',\n",
       "   'vote_average': 8.5,\n",
       "   'overview': \"All unemployed, Ki-taek's family takes peculiar interest in the wealthy and glamorous Parks for their livelihood until they get entangled in an unexpected incident.\",\n",
       "   'release_date': '2019-05-30'},\n",
       "  {'popularity': 293.06,\n",
       "   'vote_count': 469,\n",
       "   'video': False,\n",
       "   'poster_path': '/zGVbrulkupqpbwgiNedkJPyQum4.jpg',\n",
       "   'id': 592350,\n",
       "   'adult': False,\n",
       "   'backdrop_path': '/9guoVF7zayiiUq5ulKQpt375VIy.jpg',\n",
       "   'original_language': 'ja',\n",
       "   'original_title': '僕のヒーローアカデミア THE MOVIE ヒーローズ：ライジング',\n",
       "   'genre_ids': [16, 28],\n",
       "   'title': 'My Hero Academia: Heroes Rising',\n",
       "   'vote_average': 8.5,\n",
       "   'overview': \"Class 1-A visits Nabu Island where they finally get to do some real hero work. The place is so peaceful that it's more like a vacation … until they're attacked by a villain with an unfathomable Quirk! His power is eerily familiar, and it looks like Shigaraki had a hand in the plan. But with All Might retired and citizens' lives on the line, there's no time for questions. Deku and his friends are the next generation of heroes, and they're the island's only hope.\",\n",
       "   'release_date': '2019-12-20'},\n",
       "  {'popularity': 40.61,\n",
       "   'vote_count': 11202,\n",
       "   'video': False,\n",
       "   'poster_path': '/velWPhVMQeQKcxggNEU8YmIo52R.jpg',\n",
       "   'id': 497,\n",
       "   'adult': False,\n",
       "   'backdrop_path': '/5Nz25DPXfQaSpDgce42Y3kFg9G4.jpg',\n",
       "   'original_language': 'en',\n",
       "   'original_title': 'The Green Mile',\n",
       "   'genre_ids': [14, 18, 80],\n",
       "   'title': 'The Green Mile',\n",
       "   'vote_average': 8.5,\n",
       "   'overview': \"A supernatural tale set on death row in a Southern prison, where gentle giant John Coffey possesses the mysterious power to heal people's ailments. When the cell block's head guard, Paul Edgecomb, recognizes Coffey's miraculous gift, he tries desperately to help stave off the condemned man's execution.\",\n",
       "   'release_date': '1999-12-10'},\n",
       "  {'popularity': 6.116,\n",
       "   'vote_count': 282,\n",
       "   'video': False,\n",
       "   'poster_path': '/zGGWYpiKNwjpKxelPxOMqJnUgDs.jpg',\n",
       "   'id': 42269,\n",
       "   'adult': False,\n",
       "   'backdrop_path': '/bh6yfB6I1N1WuMiX6K5HxGVZnja.jpg',\n",
       "   'original_language': 'it',\n",
       "   'original_title': \"C'eravamo tanto amati\",\n",
       "   'genre_ids': [35, 18],\n",
       "   'title': 'We All Loved Each Other So Much',\n",
       "   'vote_average': 8.5,\n",
       "   'overview': 'Gianni, Nicola and Antonio become close friends in 1944 while fighting the Nazis. After the end of the war, full of illusions, they settle down. The movie is a the story of the life of these three idealists and how they deal with the inevitable disillusionments of life.',\n",
       "   'release_date': '1974-12-21'},\n",
       "  {'popularity': 44.685,\n",
       "   'vote_count': 19858,\n",
       "   'video': False,\n",
       "   'poster_path': '/plnlrtBUULT0rh3Xsjmpubiso3L.jpg',\n",
       "   'id': 680,\n",
       "   'adult': False,\n",
       "   'backdrop_path': '/w7RDIgQM6bLT7JXtH4iUQd3Iwxm.jpg',\n",
       "   'original_language': 'en',\n",
       "   'original_title': 'Pulp Fiction',\n",
       "   'genre_ids': [53, 80],\n",
       "   'title': 'Pulp Fiction',\n",
       "   'vote_average': 8.5,\n",
       "   'overview': \"A burger-loving hit man, his philosophical partner, a drug-addled gangster's moll and a washed-up boxer converge in this sprawling, comedic crime caper. Their adventures unfurl in three stories that ingeniously trip back and forth in time.\",\n",
       "   'release_date': '1994-09-10'},\n",
       "  {'popularity': 79.157,\n",
       "   'vote_count': 494,\n",
       "   'video': False,\n",
       "   'poster_path': '/8mRgpubxHqnqvENK4Bei30xMDvy.jpg',\n",
       "   'id': 537061,\n",
       "   'adult': False,\n",
       "   'backdrop_path': '/re3ZvlKJg04iLpLRf1xTKHS2wLU.jpg',\n",
       "   'original_language': 'en',\n",
       "   'original_title': 'Steven Universe: The Movie',\n",
       "   'genre_ids': [28, 12, 16, 35, 18, 14, 10402, 10751],\n",
       "   'title': 'Steven Universe: The Movie',\n",
       "   'vote_average': 8.5,\n",
       "   'overview': 'Two years after the events of \"Change Your Mind\", Steven (now 16 years old) and his friends are ready to enjoy the rest of their lives peacefully. However, all of that changes when a new sinister Gem arrives, armed with a giant drill that saps the life force of all living things on Earth. In their biggest challenge ever, the Crystal Gems must work together to save all organic life on Earth within 48 hours.',\n",
       "   'release_date': '2019-09-02'},\n",
       "  {'popularity': 32.122,\n",
       "   'id': 637,\n",
       "   'video': False,\n",
       "   'vote_count': 9457,\n",
       "   'vote_average': 8.5,\n",
       "   'title': 'Life Is Beautiful',\n",
       "   'release_date': '1997-12-20',\n",
       "   'original_language': 'it',\n",
       "   'original_title': 'La vita è bella',\n",
       "   'genre_ids': [35, 18],\n",
       "   'backdrop_path': '/6aNKD81RHR1DqUUa8kOZ1TBY1Lp.jpg',\n",
       "   'adult': False,\n",
       "   'overview': 'A touching story of an Italian book seller of Jewish ancestry who lives in his own little fairy tale. His creative and happy life would come to an abrupt halt when his entire family is deported to a concentration camp during World War II. While locked up he tries to convince his son that the whole thing is just a game.',\n",
       "   'poster_path': '/74hLDKjD5aGYOotO6esUVaeISa2.jpg'},\n",
       "  {'popularity': 55.459,\n",
       "   'id': 122,\n",
       "   'video': False,\n",
       "   'vote_count': 16515,\n",
       "   'vote_average': 8.5,\n",
       "   'title': 'The Lord of the Rings: The Return of the King',\n",
       "   'release_date': '2003-12-01',\n",
       "   'original_language': 'en',\n",
       "   'original_title': 'The Lord of the Rings: The Return of the King',\n",
       "   'genre_ids': [12, 14, 28],\n",
       "   'backdrop_path': '/9DeGfFIqjph5CBFVQrD6wv9S7rR.jpg',\n",
       "   'adult': False,\n",
       "   'overview': \"Aragorn is revealed as the heir to the ancient kings as he, Gandalf and the other members of the broken fellowship struggle to save Gondor from Sauron's forces. Meanwhile, Frodo and Sam take the ring closer to the heart of Mordor, the dark lord's realm.\",\n",
       "   'poster_path': '/rCzpDGLbOoPwLjy3OAm5NUPOTrC.jpg'},\n",
       "  {'popularity': 43.018,\n",
       "   'vote_count': 19200,\n",
       "   'video': False,\n",
       "   'poster_path': '/clolk7rB5lAjs41SD0Vt6IXYLMm.jpg',\n",
       "   'id': 13,\n",
       "   'adult': False,\n",
       "   'backdrop_path': '/7c9UVPPiTPltouxRVY6N9uugaVA.jpg',\n",
       "   'original_language': 'en',\n",
       "   'original_title': 'Forrest Gump',\n",
       "   'genre_ids': [35, 18, 10749],\n",
       "   'title': 'Forrest Gump',\n",
       "   'vote_average': 8.5,\n",
       "   'overview': 'A man with a low IQ has accomplished great things in his life and been present during significant historic events—in each case, far exceeding what anyone imagined he could do. But despite all he has achieved, his one true love eludes him.',\n",
       "   'release_date': '1994-07-06'},\n",
       "  {'popularity': 22.464,\n",
       "   'id': 311,\n",
       "   'video': False,\n",
       "   'vote_count': 3263,\n",
       "   'vote_average': 8.5,\n",
       "   'title': 'Once Upon a Time in America',\n",
       "   'release_date': '1984-05-23',\n",
       "   'original_language': 'en',\n",
       "   'original_title': 'Once Upon a Time in America',\n",
       "   'genre_ids': [18, 80],\n",
       "   'backdrop_path': '/z1s7ASlypXYGeMLoJ2Np4CpWdzd.jpg',\n",
       "   'adult': False,\n",
       "   'overview': 'A former Prohibition-era Jewish gangster returns to the Lower East Side of Manhattan over thirty years later, where he once again must confront the ghosts and regrets of his old life.',\n",
       "   'poster_path': '/hBDHr3YihnuL46aeyEMhTchXkZP.jpg'}]}"
      ]
     },
     "execution_count": 40,
     "metadata": {},
     "output_type": "execute_result"
    }
   ],
   "source": [
    "top_rated_json"
   ]
  },
  {
   "cell_type": "code",
   "execution_count": 29,
   "metadata": {},
   "outputs": [
    {
     "data": {
      "text/plain": [
       "4"
      ]
     },
     "execution_count": 29,
     "metadata": {},
     "output_type": "execute_result"
    }
   ],
   "source": [
    "len(top_rated_json)"
   ]
  },
  {
   "cell_type": "code",
   "execution_count": 30,
   "metadata": {},
   "outputs": [],
   "source": [
    "top_movies = top_rated_json['results']"
   ]
  },
  {
   "cell_type": "code",
   "execution_count": 39,
   "metadata": {},
   "outputs": [
    {
     "data": {
      "text/plain": [
       "1"
      ]
     },
     "execution_count": 39,
     "metadata": {},
     "output_type": "execute_result"
    }
   ],
   "source": [
    "top_rated_json['page']"
   ]
  },
  {
   "cell_type": "code",
   "execution_count": 31,
   "metadata": {},
   "outputs": [
    {
     "data": {
      "text/plain": [
       "20"
      ]
     },
     "execution_count": 31,
     "metadata": {},
     "output_type": "execute_result"
    }
   ],
   "source": [
    "len(top_movies)"
   ]
  },
  {
   "cell_type": "code",
   "execution_count": 32,
   "metadata": {},
   "outputs": [],
   "source": [
    "top_movies = pd.DataFrame(top_rated_json['results'])"
   ]
  },
  {
   "cell_type": "code",
   "execution_count": 41,
   "metadata": {},
   "outputs": [
    {
     "data": {
      "text/html": [
       "<div>\n",
       "<style scoped>\n",
       "    .dataframe tbody tr th:only-of-type {\n",
       "        vertical-align: middle;\n",
       "    }\n",
       "\n",
       "    .dataframe tbody tr th {\n",
       "        vertical-align: top;\n",
       "    }\n",
       "\n",
       "    .dataframe thead th {\n",
       "        text-align: right;\n",
       "    }\n",
       "</style>\n",
       "<table border=\"1\" class=\"dataframe\">\n",
       "  <thead>\n",
       "    <tr style=\"text-align: right;\">\n",
       "      <th></th>\n",
       "      <th>popularity</th>\n",
       "      <th>id</th>\n",
       "      <th>video</th>\n",
       "      <th>vote_count</th>\n",
       "      <th>vote_average</th>\n",
       "      <th>title</th>\n",
       "      <th>release_date</th>\n",
       "      <th>original_language</th>\n",
       "      <th>original_title</th>\n",
       "      <th>genre_ids</th>\n",
       "      <th>backdrop_path</th>\n",
       "      <th>adult</th>\n",
       "      <th>overview</th>\n",
       "      <th>poster_path</th>\n",
       "    </tr>\n",
       "  </thead>\n",
       "  <tbody>\n",
       "    <tr>\n",
       "      <th>0</th>\n",
       "      <td>9.567</td>\n",
       "      <td>724089</td>\n",
       "      <td>False</td>\n",
       "      <td>924</td>\n",
       "      <td>8.9</td>\n",
       "      <td>Gabriel's Inferno Part II</td>\n",
       "      <td>2020-07-31</td>\n",
       "      <td>en</td>\n",
       "      <td>Gabriel's Inferno Part II</td>\n",
       "      <td>[10749]</td>\n",
       "      <td>/jtAI6OJIWLWiRItNSZoWjrsUtmi.jpg</td>\n",
       "      <td>False</td>\n",
       "      <td>Professor Gabriel Emerson finally learns the t...</td>\n",
       "      <td>/pci1ArYW7oJ2eyTo2NMYEKHHiCP.jpg</td>\n",
       "    </tr>\n",
       "    <tr>\n",
       "      <th>1</th>\n",
       "      <td>10.597</td>\n",
       "      <td>696374</td>\n",
       "      <td>False</td>\n",
       "      <td>1541</td>\n",
       "      <td>8.8</td>\n",
       "      <td>Gabriel's Inferno</td>\n",
       "      <td>2020-05-29</td>\n",
       "      <td>en</td>\n",
       "      <td>Gabriel's Inferno</td>\n",
       "      <td>[10749]</td>\n",
       "      <td>/969BfPHGJcjg2aUv60g5uiiXFzf.jpg</td>\n",
       "      <td>False</td>\n",
       "      <td>An intriguing and sinful exploration of seduct...</td>\n",
       "      <td>/oyG9TL7FcRP4EZ9Vid6uKzwdndz.jpg</td>\n",
       "    </tr>\n",
       "    <tr>\n",
       "      <th>2</th>\n",
       "      <td>19.288</td>\n",
       "      <td>644479</td>\n",
       "      <td>False</td>\n",
       "      <td>257</td>\n",
       "      <td>8.7</td>\n",
       "      <td>Dedicated to my ex</td>\n",
       "      <td>2019-11-01</td>\n",
       "      <td>es</td>\n",
       "      <td>Dedicada a mi ex</td>\n",
       "      <td>[35, 18]</td>\n",
       "      <td>/8g1rUabKleLvovt0Sx6bXgWfC42.jpg</td>\n",
       "      <td>False</td>\n",
       "      <td>The film tells the story of Ariel, a 21-year-o...</td>\n",
       "      <td>/riAooJrFvVhotyaOgoI0WR7okSe.jpg</td>\n",
       "    </tr>\n",
       "    <tr>\n",
       "      <th>3</th>\n",
       "      <td>55.873</td>\n",
       "      <td>278</td>\n",
       "      <td>False</td>\n",
       "      <td>17496</td>\n",
       "      <td>8.7</td>\n",
       "      <td>The Shawshank Redemption</td>\n",
       "      <td>1994-09-23</td>\n",
       "      <td>en</td>\n",
       "      <td>The Shawshank Redemption</td>\n",
       "      <td>[18, 80]</td>\n",
       "      <td>/iNh3BivHyg5sQRPP1KOkzguEX0H.jpg</td>\n",
       "      <td>False</td>\n",
       "      <td>Framed in the 1940s for the double murder of h...</td>\n",
       "      <td>/5KCVkau1HEl7ZzfPsKAPM0sMiKc.jpg</td>\n",
       "    </tr>\n",
       "    <tr>\n",
       "      <th>4</th>\n",
       "      <td>12.878</td>\n",
       "      <td>19404</td>\n",
       "      <td>False</td>\n",
       "      <td>2419</td>\n",
       "      <td>8.7</td>\n",
       "      <td>Dilwale Dulhania Le Jayenge</td>\n",
       "      <td>1995-10-20</td>\n",
       "      <td>hi</td>\n",
       "      <td>दिलवाले दुल्हनिया ले जायेंगे</td>\n",
       "      <td>[35, 18, 10749]</td>\n",
       "      <td>/svYzz6A6xleZv5toTLAhigXd1DX.jpg</td>\n",
       "      <td>False</td>\n",
       "      <td>Raj is a rich, carefree, happy-go-lucky second...</td>\n",
       "      <td>/2CAL2433ZeIihfX1Hb2139CX0pW.jpg</td>\n",
       "    </tr>\n",
       "    <tr>\n",
       "      <th>5</th>\n",
       "      <td>41.016</td>\n",
       "      <td>238</td>\n",
       "      <td>False</td>\n",
       "      <td>13239</td>\n",
       "      <td>8.7</td>\n",
       "      <td>The Godfather</td>\n",
       "      <td>1972-03-14</td>\n",
       "      <td>en</td>\n",
       "      <td>The Godfather</td>\n",
       "      <td>[18, 80]</td>\n",
       "      <td>/rSPw7tgCH9c6NqICZef4kZjFOQ5.jpg</td>\n",
       "      <td>False</td>\n",
       "      <td>Spanning the years 1945 to 1955, a chronicle o...</td>\n",
       "      <td>/3bhkrj58Vtu7enYsRolD1fZdja1.jpg</td>\n",
       "    </tr>\n",
       "    <tr>\n",
       "      <th>6</th>\n",
       "      <td>34.175</td>\n",
       "      <td>424</td>\n",
       "      <td>False</td>\n",
       "      <td>10535</td>\n",
       "      <td>8.6</td>\n",
       "      <td>Schindler's List</td>\n",
       "      <td>1993-11-30</td>\n",
       "      <td>en</td>\n",
       "      <td>Schindler's List</td>\n",
       "      <td>[18, 36, 10752]</td>\n",
       "      <td>/loRmRzQXZeqG78TqZuyvSlEQfZb.jpg</td>\n",
       "      <td>False</td>\n",
       "      <td>The true story of how businessman Oskar Schind...</td>\n",
       "      <td>/c8Ass7acuOe4za6DhSattE359gr.jpg</td>\n",
       "    </tr>\n",
       "    <tr>\n",
       "      <th>7</th>\n",
       "      <td>127.751</td>\n",
       "      <td>372058</td>\n",
       "      <td>False</td>\n",
       "      <td>6602</td>\n",
       "      <td>8.6</td>\n",
       "      <td>Your Name.</td>\n",
       "      <td>2016-08-26</td>\n",
       "      <td>ja</td>\n",
       "      <td>君の名は。</td>\n",
       "      <td>[10749, 16, 18]</td>\n",
       "      <td>/mMtUybQ6hL24FXo0F3Z4j2KG7kZ.jpg</td>\n",
       "      <td>False</td>\n",
       "      <td>High schoolers Mitsuha and Taki are complete s...</td>\n",
       "      <td>/q719jXXEzOoYaps6babgKnONONX.jpg</td>\n",
       "    </tr>\n",
       "    <tr>\n",
       "      <th>8</th>\n",
       "      <td>30.941</td>\n",
       "      <td>240</td>\n",
       "      <td>False</td>\n",
       "      <td>7858</td>\n",
       "      <td>8.6</td>\n",
       "      <td>The Godfather: Part II</td>\n",
       "      <td>1974-12-20</td>\n",
       "      <td>en</td>\n",
       "      <td>The Godfather: Part II</td>\n",
       "      <td>[18, 80]</td>\n",
       "      <td>/poec6RqOKY9iSiIUmfyfPfiLtvB.jpg</td>\n",
       "      <td>False</td>\n",
       "      <td>In the continuing saga of the Corleone crime f...</td>\n",
       "      <td>/hek3koDUyRQk7FIhPXsa6mT2Zc3.jpg</td>\n",
       "    </tr>\n",
       "    <tr>\n",
       "      <th>9</th>\n",
       "      <td>54.105</td>\n",
       "      <td>129</td>\n",
       "      <td>False</td>\n",
       "      <td>10377</td>\n",
       "      <td>8.5</td>\n",
       "      <td>Spirited Away</td>\n",
       "      <td>2001-07-20</td>\n",
       "      <td>ja</td>\n",
       "      <td>千と千尋の神隠し</td>\n",
       "      <td>[16, 10751, 14]</td>\n",
       "      <td>/mSDsSDwaP3E7dEfUPWy4J0djt4O.jpg</td>\n",
       "      <td>False</td>\n",
       "      <td>A young girl, Chihiro, becomes trapped in a st...</td>\n",
       "      <td>/2TeJfUZMGolfDdW6DKhfIWqvq8y.jpg</td>\n",
       "    </tr>\n",
       "    <tr>\n",
       "      <th>10</th>\n",
       "      <td>113.512</td>\n",
       "      <td>496243</td>\n",
       "      <td>False</td>\n",
       "      <td>9683</td>\n",
       "      <td>8.5</td>\n",
       "      <td>Parasite</td>\n",
       "      <td>2019-05-30</td>\n",
       "      <td>ko</td>\n",
       "      <td>기생충</td>\n",
       "      <td>[35, 53, 18]</td>\n",
       "      <td>/ApiBzeaa95TNYliSbQ8pJv4Fje7.jpg</td>\n",
       "      <td>False</td>\n",
       "      <td>All unemployed, Ki-taek's family takes peculia...</td>\n",
       "      <td>/7IiTTgloJzvGI1TAYymCfbfl3vT.jpg</td>\n",
       "    </tr>\n",
       "    <tr>\n",
       "      <th>11</th>\n",
       "      <td>293.060</td>\n",
       "      <td>592350</td>\n",
       "      <td>False</td>\n",
       "      <td>469</td>\n",
       "      <td>8.5</td>\n",
       "      <td>My Hero Academia: Heroes Rising</td>\n",
       "      <td>2019-12-20</td>\n",
       "      <td>ja</td>\n",
       "      <td>僕のヒーローアカデミア THE MOVIE ヒーローズ：ライジング</td>\n",
       "      <td>[16, 28]</td>\n",
       "      <td>/9guoVF7zayiiUq5ulKQpt375VIy.jpg</td>\n",
       "      <td>False</td>\n",
       "      <td>Class 1-A visits Nabu Island where they finall...</td>\n",
       "      <td>/zGVbrulkupqpbwgiNedkJPyQum4.jpg</td>\n",
       "    </tr>\n",
       "    <tr>\n",
       "      <th>12</th>\n",
       "      <td>40.610</td>\n",
       "      <td>497</td>\n",
       "      <td>False</td>\n",
       "      <td>11202</td>\n",
       "      <td>8.5</td>\n",
       "      <td>The Green Mile</td>\n",
       "      <td>1999-12-10</td>\n",
       "      <td>en</td>\n",
       "      <td>The Green Mile</td>\n",
       "      <td>[14, 18, 80]</td>\n",
       "      <td>/5Nz25DPXfQaSpDgce42Y3kFg9G4.jpg</td>\n",
       "      <td>False</td>\n",
       "      <td>A supernatural tale set on death row in a Sout...</td>\n",
       "      <td>/velWPhVMQeQKcxggNEU8YmIo52R.jpg</td>\n",
       "    </tr>\n",
       "    <tr>\n",
       "      <th>13</th>\n",
       "      <td>6.116</td>\n",
       "      <td>42269</td>\n",
       "      <td>False</td>\n",
       "      <td>282</td>\n",
       "      <td>8.5</td>\n",
       "      <td>We All Loved Each Other So Much</td>\n",
       "      <td>1974-12-21</td>\n",
       "      <td>it</td>\n",
       "      <td>C'eravamo tanto amati</td>\n",
       "      <td>[35, 18]</td>\n",
       "      <td>/bh6yfB6I1N1WuMiX6K5HxGVZnja.jpg</td>\n",
       "      <td>False</td>\n",
       "      <td>Gianni, Nicola and Antonio become close friend...</td>\n",
       "      <td>/zGGWYpiKNwjpKxelPxOMqJnUgDs.jpg</td>\n",
       "    </tr>\n",
       "    <tr>\n",
       "      <th>14</th>\n",
       "      <td>44.685</td>\n",
       "      <td>680</td>\n",
       "      <td>False</td>\n",
       "      <td>19858</td>\n",
       "      <td>8.5</td>\n",
       "      <td>Pulp Fiction</td>\n",
       "      <td>1994-09-10</td>\n",
       "      <td>en</td>\n",
       "      <td>Pulp Fiction</td>\n",
       "      <td>[53, 80]</td>\n",
       "      <td>/w7RDIgQM6bLT7JXtH4iUQd3Iwxm.jpg</td>\n",
       "      <td>False</td>\n",
       "      <td>A burger-loving hit man, his philosophical par...</td>\n",
       "      <td>/plnlrtBUULT0rh3Xsjmpubiso3L.jpg</td>\n",
       "    </tr>\n",
       "    <tr>\n",
       "      <th>15</th>\n",
       "      <td>79.157</td>\n",
       "      <td>537061</td>\n",
       "      <td>False</td>\n",
       "      <td>494</td>\n",
       "      <td>8.5</td>\n",
       "      <td>Steven Universe: The Movie</td>\n",
       "      <td>2019-09-02</td>\n",
       "      <td>en</td>\n",
       "      <td>Steven Universe: The Movie</td>\n",
       "      <td>[28, 12, 16, 35, 18, 14, 10402, 10751]</td>\n",
       "      <td>/re3ZvlKJg04iLpLRf1xTKHS2wLU.jpg</td>\n",
       "      <td>False</td>\n",
       "      <td>Two years after the events of \"Change Your Min...</td>\n",
       "      <td>/8mRgpubxHqnqvENK4Bei30xMDvy.jpg</td>\n",
       "    </tr>\n",
       "    <tr>\n",
       "      <th>16</th>\n",
       "      <td>32.122</td>\n",
       "      <td>637</td>\n",
       "      <td>False</td>\n",
       "      <td>9457</td>\n",
       "      <td>8.5</td>\n",
       "      <td>Life Is Beautiful</td>\n",
       "      <td>1997-12-20</td>\n",
       "      <td>it</td>\n",
       "      <td>La vita è bella</td>\n",
       "      <td>[35, 18]</td>\n",
       "      <td>/6aNKD81RHR1DqUUa8kOZ1TBY1Lp.jpg</td>\n",
       "      <td>False</td>\n",
       "      <td>A touching story of an Italian book seller of ...</td>\n",
       "      <td>/74hLDKjD5aGYOotO6esUVaeISa2.jpg</td>\n",
       "    </tr>\n",
       "    <tr>\n",
       "      <th>17</th>\n",
       "      <td>55.459</td>\n",
       "      <td>122</td>\n",
       "      <td>False</td>\n",
       "      <td>16515</td>\n",
       "      <td>8.5</td>\n",
       "      <td>The Lord of the Rings: The Return of the King</td>\n",
       "      <td>2003-12-01</td>\n",
       "      <td>en</td>\n",
       "      <td>The Lord of the Rings: The Return of the King</td>\n",
       "      <td>[12, 14, 28]</td>\n",
       "      <td>/9DeGfFIqjph5CBFVQrD6wv9S7rR.jpg</td>\n",
       "      <td>False</td>\n",
       "      <td>Aragorn is revealed as the heir to the ancient...</td>\n",
       "      <td>/rCzpDGLbOoPwLjy3OAm5NUPOTrC.jpg</td>\n",
       "    </tr>\n",
       "    <tr>\n",
       "      <th>18</th>\n",
       "      <td>43.018</td>\n",
       "      <td>13</td>\n",
       "      <td>False</td>\n",
       "      <td>19200</td>\n",
       "      <td>8.5</td>\n",
       "      <td>Forrest Gump</td>\n",
       "      <td>1994-07-06</td>\n",
       "      <td>en</td>\n",
       "      <td>Forrest Gump</td>\n",
       "      <td>[35, 18, 10749]</td>\n",
       "      <td>/7c9UVPPiTPltouxRVY6N9uugaVA.jpg</td>\n",
       "      <td>False</td>\n",
       "      <td>A man with a low IQ has accomplished great thi...</td>\n",
       "      <td>/clolk7rB5lAjs41SD0Vt6IXYLMm.jpg</td>\n",
       "    </tr>\n",
       "    <tr>\n",
       "      <th>19</th>\n",
       "      <td>22.464</td>\n",
       "      <td>311</td>\n",
       "      <td>False</td>\n",
       "      <td>3263</td>\n",
       "      <td>8.5</td>\n",
       "      <td>Once Upon a Time in America</td>\n",
       "      <td>1984-05-23</td>\n",
       "      <td>en</td>\n",
       "      <td>Once Upon a Time in America</td>\n",
       "      <td>[18, 80]</td>\n",
       "      <td>/z1s7ASlypXYGeMLoJ2Np4CpWdzd.jpg</td>\n",
       "      <td>False</td>\n",
       "      <td>A former Prohibition-era Jewish gangster retur...</td>\n",
       "      <td>/hBDHr3YihnuL46aeyEMhTchXkZP.jpg</td>\n",
       "    </tr>\n",
       "  </tbody>\n",
       "</table>\n",
       "</div>"
      ],
      "text/plain": [
       "    popularity      id  video  vote_count  vote_average  \\\n",
       "0        9.567  724089  False         924           8.9   \n",
       "1       10.597  696374  False        1541           8.8   \n",
       "2       19.288  644479  False         257           8.7   \n",
       "3       55.873     278  False       17496           8.7   \n",
       "4       12.878   19404  False        2419           8.7   \n",
       "5       41.016     238  False       13239           8.7   \n",
       "6       34.175     424  False       10535           8.6   \n",
       "7      127.751  372058  False        6602           8.6   \n",
       "8       30.941     240  False        7858           8.6   \n",
       "9       54.105     129  False       10377           8.5   \n",
       "10     113.512  496243  False        9683           8.5   \n",
       "11     293.060  592350  False         469           8.5   \n",
       "12      40.610     497  False       11202           8.5   \n",
       "13       6.116   42269  False         282           8.5   \n",
       "14      44.685     680  False       19858           8.5   \n",
       "15      79.157  537061  False         494           8.5   \n",
       "16      32.122     637  False        9457           8.5   \n",
       "17      55.459     122  False       16515           8.5   \n",
       "18      43.018      13  False       19200           8.5   \n",
       "19      22.464     311  False        3263           8.5   \n",
       "\n",
       "                                            title release_date  \\\n",
       "0                       Gabriel's Inferno Part II   2020-07-31   \n",
       "1                               Gabriel's Inferno   2020-05-29   \n",
       "2                              Dedicated to my ex   2019-11-01   \n",
       "3                        The Shawshank Redemption   1994-09-23   \n",
       "4                     Dilwale Dulhania Le Jayenge   1995-10-20   \n",
       "5                                   The Godfather   1972-03-14   \n",
       "6                                Schindler's List   1993-11-30   \n",
       "7                                      Your Name.   2016-08-26   \n",
       "8                          The Godfather: Part II   1974-12-20   \n",
       "9                                   Spirited Away   2001-07-20   \n",
       "10                                       Parasite   2019-05-30   \n",
       "11                My Hero Academia: Heroes Rising   2019-12-20   \n",
       "12                                 The Green Mile   1999-12-10   \n",
       "13                We All Loved Each Other So Much   1974-12-21   \n",
       "14                                   Pulp Fiction   1994-09-10   \n",
       "15                     Steven Universe: The Movie   2019-09-02   \n",
       "16                              Life Is Beautiful   1997-12-20   \n",
       "17  The Lord of the Rings: The Return of the King   2003-12-01   \n",
       "18                                   Forrest Gump   1994-07-06   \n",
       "19                    Once Upon a Time in America   1984-05-23   \n",
       "\n",
       "   original_language                                 original_title  \\\n",
       "0                 en                      Gabriel's Inferno Part II   \n",
       "1                 en                              Gabriel's Inferno   \n",
       "2                 es                               Dedicada a mi ex   \n",
       "3                 en                       The Shawshank Redemption   \n",
       "4                 hi                   दिलवाले दुल्हनिया ले जायेंगे   \n",
       "5                 en                                  The Godfather   \n",
       "6                 en                               Schindler's List   \n",
       "7                 ja                                          君の名は。   \n",
       "8                 en                         The Godfather: Part II   \n",
       "9                 ja                                       千と千尋の神隠し   \n",
       "10                ko                                            기생충   \n",
       "11                ja              僕のヒーローアカデミア THE MOVIE ヒーローズ：ライジング   \n",
       "12                en                                 The Green Mile   \n",
       "13                it                          C'eravamo tanto amati   \n",
       "14                en                                   Pulp Fiction   \n",
       "15                en                     Steven Universe: The Movie   \n",
       "16                it                                La vita è bella   \n",
       "17                en  The Lord of the Rings: The Return of the King   \n",
       "18                en                                   Forrest Gump   \n",
       "19                en                    Once Upon a Time in America   \n",
       "\n",
       "                                 genre_ids                     backdrop_path  \\\n",
       "0                                  [10749]  /jtAI6OJIWLWiRItNSZoWjrsUtmi.jpg   \n",
       "1                                  [10749]  /969BfPHGJcjg2aUv60g5uiiXFzf.jpg   \n",
       "2                                 [35, 18]  /8g1rUabKleLvovt0Sx6bXgWfC42.jpg   \n",
       "3                                 [18, 80]  /iNh3BivHyg5sQRPP1KOkzguEX0H.jpg   \n",
       "4                          [35, 18, 10749]  /svYzz6A6xleZv5toTLAhigXd1DX.jpg   \n",
       "5                                 [18, 80]  /rSPw7tgCH9c6NqICZef4kZjFOQ5.jpg   \n",
       "6                          [18, 36, 10752]  /loRmRzQXZeqG78TqZuyvSlEQfZb.jpg   \n",
       "7                          [10749, 16, 18]  /mMtUybQ6hL24FXo0F3Z4j2KG7kZ.jpg   \n",
       "8                                 [18, 80]  /poec6RqOKY9iSiIUmfyfPfiLtvB.jpg   \n",
       "9                          [16, 10751, 14]  /mSDsSDwaP3E7dEfUPWy4J0djt4O.jpg   \n",
       "10                            [35, 53, 18]  /ApiBzeaa95TNYliSbQ8pJv4Fje7.jpg   \n",
       "11                                [16, 28]  /9guoVF7zayiiUq5ulKQpt375VIy.jpg   \n",
       "12                            [14, 18, 80]  /5Nz25DPXfQaSpDgce42Y3kFg9G4.jpg   \n",
       "13                                [35, 18]  /bh6yfB6I1N1WuMiX6K5HxGVZnja.jpg   \n",
       "14                                [53, 80]  /w7RDIgQM6bLT7JXtH4iUQd3Iwxm.jpg   \n",
       "15  [28, 12, 16, 35, 18, 14, 10402, 10751]  /re3ZvlKJg04iLpLRf1xTKHS2wLU.jpg   \n",
       "16                                [35, 18]  /6aNKD81RHR1DqUUa8kOZ1TBY1Lp.jpg   \n",
       "17                            [12, 14, 28]  /9DeGfFIqjph5CBFVQrD6wv9S7rR.jpg   \n",
       "18                         [35, 18, 10749]  /7c9UVPPiTPltouxRVY6N9uugaVA.jpg   \n",
       "19                                [18, 80]  /z1s7ASlypXYGeMLoJ2Np4CpWdzd.jpg   \n",
       "\n",
       "    adult                                           overview  \\\n",
       "0   False  Professor Gabriel Emerson finally learns the t...   \n",
       "1   False  An intriguing and sinful exploration of seduct...   \n",
       "2   False  The film tells the story of Ariel, a 21-year-o...   \n",
       "3   False  Framed in the 1940s for the double murder of h...   \n",
       "4   False  Raj is a rich, carefree, happy-go-lucky second...   \n",
       "5   False  Spanning the years 1945 to 1955, a chronicle o...   \n",
       "6   False  The true story of how businessman Oskar Schind...   \n",
       "7   False  High schoolers Mitsuha and Taki are complete s...   \n",
       "8   False  In the continuing saga of the Corleone crime f...   \n",
       "9   False  A young girl, Chihiro, becomes trapped in a st...   \n",
       "10  False  All unemployed, Ki-taek's family takes peculia...   \n",
       "11  False  Class 1-A visits Nabu Island where they finall...   \n",
       "12  False  A supernatural tale set on death row in a Sout...   \n",
       "13  False  Gianni, Nicola and Antonio become close friend...   \n",
       "14  False  A burger-loving hit man, his philosophical par...   \n",
       "15  False  Two years after the events of \"Change Your Min...   \n",
       "16  False  A touching story of an Italian book seller of ...   \n",
       "17  False  Aragorn is revealed as the heir to the ancient...   \n",
       "18  False  A man with a low IQ has accomplished great thi...   \n",
       "19  False  A former Prohibition-era Jewish gangster retur...   \n",
       "\n",
       "                         poster_path  \n",
       "0   /pci1ArYW7oJ2eyTo2NMYEKHHiCP.jpg  \n",
       "1   /oyG9TL7FcRP4EZ9Vid6uKzwdndz.jpg  \n",
       "2   /riAooJrFvVhotyaOgoI0WR7okSe.jpg  \n",
       "3   /5KCVkau1HEl7ZzfPsKAPM0sMiKc.jpg  \n",
       "4   /2CAL2433ZeIihfX1Hb2139CX0pW.jpg  \n",
       "5   /3bhkrj58Vtu7enYsRolD1fZdja1.jpg  \n",
       "6   /c8Ass7acuOe4za6DhSattE359gr.jpg  \n",
       "7   /q719jXXEzOoYaps6babgKnONONX.jpg  \n",
       "8   /hek3koDUyRQk7FIhPXsa6mT2Zc3.jpg  \n",
       "9   /2TeJfUZMGolfDdW6DKhfIWqvq8y.jpg  \n",
       "10  /7IiTTgloJzvGI1TAYymCfbfl3vT.jpg  \n",
       "11  /zGVbrulkupqpbwgiNedkJPyQum4.jpg  \n",
       "12  /velWPhVMQeQKcxggNEU8YmIo52R.jpg  \n",
       "13  /zGGWYpiKNwjpKxelPxOMqJnUgDs.jpg  \n",
       "14  /plnlrtBUULT0rh3Xsjmpubiso3L.jpg  \n",
       "15  /8mRgpubxHqnqvENK4Bei30xMDvy.jpg  \n",
       "16  /74hLDKjD5aGYOotO6esUVaeISa2.jpg  \n",
       "17  /rCzpDGLbOoPwLjy3OAm5NUPOTrC.jpg  \n",
       "18  /clolk7rB5lAjs41SD0Vt6IXYLMm.jpg  \n",
       "19  /hBDHr3YihnuL46aeyEMhTchXkZP.jpg  "
      ]
     },
     "execution_count": 41,
     "metadata": {},
     "output_type": "execute_result"
    }
   ],
   "source": [
    "top_movies"
   ]
  },
  {
   "cell_type": "code",
   "execution_count": 54,
   "metadata": {},
   "outputs": [],
   "source": [
    "new_movies_df = top_movies[(top_movies['release_date'].str.startswith('201'))]"
   ]
  },
  {
   "cell_type": "code",
   "execution_count": 55,
   "metadata": {},
   "outputs": [
    {
     "data": {
      "text/html": [
       "<div>\n",
       "<style scoped>\n",
       "    .dataframe tbody tr th:only-of-type {\n",
       "        vertical-align: middle;\n",
       "    }\n",
       "\n",
       "    .dataframe tbody tr th {\n",
       "        vertical-align: top;\n",
       "    }\n",
       "\n",
       "    .dataframe thead th {\n",
       "        text-align: right;\n",
       "    }\n",
       "</style>\n",
       "<table border=\"1\" class=\"dataframe\">\n",
       "  <thead>\n",
       "    <tr style=\"text-align: right;\">\n",
       "      <th></th>\n",
       "      <th>popularity</th>\n",
       "      <th>id</th>\n",
       "      <th>video</th>\n",
       "      <th>vote_count</th>\n",
       "      <th>vote_average</th>\n",
       "      <th>title</th>\n",
       "      <th>release_date</th>\n",
       "      <th>original_language</th>\n",
       "      <th>original_title</th>\n",
       "      <th>genre_ids</th>\n",
       "      <th>backdrop_path</th>\n",
       "      <th>adult</th>\n",
       "      <th>overview</th>\n",
       "      <th>poster_path</th>\n",
       "    </tr>\n",
       "  </thead>\n",
       "  <tbody>\n",
       "    <tr>\n",
       "      <th>2</th>\n",
       "      <td>19.288</td>\n",
       "      <td>644479</td>\n",
       "      <td>False</td>\n",
       "      <td>257</td>\n",
       "      <td>8.7</td>\n",
       "      <td>Dedicated to my ex</td>\n",
       "      <td>2019-11-01</td>\n",
       "      <td>es</td>\n",
       "      <td>Dedicada a mi ex</td>\n",
       "      <td>[35, 18]</td>\n",
       "      <td>/8g1rUabKleLvovt0Sx6bXgWfC42.jpg</td>\n",
       "      <td>False</td>\n",
       "      <td>The film tells the story of Ariel, a 21-year-o...</td>\n",
       "      <td>/riAooJrFvVhotyaOgoI0WR7okSe.jpg</td>\n",
       "    </tr>\n",
       "    <tr>\n",
       "      <th>7</th>\n",
       "      <td>127.751</td>\n",
       "      <td>372058</td>\n",
       "      <td>False</td>\n",
       "      <td>6602</td>\n",
       "      <td>8.6</td>\n",
       "      <td>Your Name.</td>\n",
       "      <td>2016-08-26</td>\n",
       "      <td>ja</td>\n",
       "      <td>君の名は。</td>\n",
       "      <td>[10749, 16, 18]</td>\n",
       "      <td>/mMtUybQ6hL24FXo0F3Z4j2KG7kZ.jpg</td>\n",
       "      <td>False</td>\n",
       "      <td>High schoolers Mitsuha and Taki are complete s...</td>\n",
       "      <td>/q719jXXEzOoYaps6babgKnONONX.jpg</td>\n",
       "    </tr>\n",
       "    <tr>\n",
       "      <th>10</th>\n",
       "      <td>113.512</td>\n",
       "      <td>496243</td>\n",
       "      <td>False</td>\n",
       "      <td>9683</td>\n",
       "      <td>8.5</td>\n",
       "      <td>Parasite</td>\n",
       "      <td>2019-05-30</td>\n",
       "      <td>ko</td>\n",
       "      <td>기생충</td>\n",
       "      <td>[35, 53, 18]</td>\n",
       "      <td>/ApiBzeaa95TNYliSbQ8pJv4Fje7.jpg</td>\n",
       "      <td>False</td>\n",
       "      <td>All unemployed, Ki-taek's family takes peculia...</td>\n",
       "      <td>/7IiTTgloJzvGI1TAYymCfbfl3vT.jpg</td>\n",
       "    </tr>\n",
       "    <tr>\n",
       "      <th>11</th>\n",
       "      <td>293.060</td>\n",
       "      <td>592350</td>\n",
       "      <td>False</td>\n",
       "      <td>469</td>\n",
       "      <td>8.5</td>\n",
       "      <td>My Hero Academia: Heroes Rising</td>\n",
       "      <td>2019-12-20</td>\n",
       "      <td>ja</td>\n",
       "      <td>僕のヒーローアカデミア THE MOVIE ヒーローズ：ライジング</td>\n",
       "      <td>[16, 28]</td>\n",
       "      <td>/9guoVF7zayiiUq5ulKQpt375VIy.jpg</td>\n",
       "      <td>False</td>\n",
       "      <td>Class 1-A visits Nabu Island where they finall...</td>\n",
       "      <td>/zGVbrulkupqpbwgiNedkJPyQum4.jpg</td>\n",
       "    </tr>\n",
       "    <tr>\n",
       "      <th>15</th>\n",
       "      <td>79.157</td>\n",
       "      <td>537061</td>\n",
       "      <td>False</td>\n",
       "      <td>494</td>\n",
       "      <td>8.5</td>\n",
       "      <td>Steven Universe: The Movie</td>\n",
       "      <td>2019-09-02</td>\n",
       "      <td>en</td>\n",
       "      <td>Steven Universe: The Movie</td>\n",
       "      <td>[28, 12, 16, 35, 18, 14, 10402, 10751]</td>\n",
       "      <td>/re3ZvlKJg04iLpLRf1xTKHS2wLU.jpg</td>\n",
       "      <td>False</td>\n",
       "      <td>Two years after the events of \"Change Your Min...</td>\n",
       "      <td>/8mRgpubxHqnqvENK4Bei30xMDvy.jpg</td>\n",
       "    </tr>\n",
       "  </tbody>\n",
       "</table>\n",
       "</div>"
      ],
      "text/plain": [
       "    popularity      id  video  vote_count  vote_average  \\\n",
       "2       19.288  644479  False         257           8.7   \n",
       "7      127.751  372058  False        6602           8.6   \n",
       "10     113.512  496243  False        9683           8.5   \n",
       "11     293.060  592350  False         469           8.5   \n",
       "15      79.157  537061  False         494           8.5   \n",
       "\n",
       "                              title release_date original_language  \\\n",
       "2                Dedicated to my ex   2019-11-01                es   \n",
       "7                        Your Name.   2016-08-26                ja   \n",
       "10                         Parasite   2019-05-30                ko   \n",
       "11  My Hero Academia: Heroes Rising   2019-12-20                ja   \n",
       "15       Steven Universe: The Movie   2019-09-02                en   \n",
       "\n",
       "                       original_title                               genre_ids  \\\n",
       "2                    Dedicada a mi ex                                [35, 18]   \n",
       "7                               君の名は。                         [10749, 16, 18]   \n",
       "10                                기생충                            [35, 53, 18]   \n",
       "11  僕のヒーローアカデミア THE MOVIE ヒーローズ：ライジング                                [16, 28]   \n",
       "15         Steven Universe: The Movie  [28, 12, 16, 35, 18, 14, 10402, 10751]   \n",
       "\n",
       "                       backdrop_path  adult  \\\n",
       "2   /8g1rUabKleLvovt0Sx6bXgWfC42.jpg  False   \n",
       "7   /mMtUybQ6hL24FXo0F3Z4j2KG7kZ.jpg  False   \n",
       "10  /ApiBzeaa95TNYliSbQ8pJv4Fje7.jpg  False   \n",
       "11  /9guoVF7zayiiUq5ulKQpt375VIy.jpg  False   \n",
       "15  /re3ZvlKJg04iLpLRf1xTKHS2wLU.jpg  False   \n",
       "\n",
       "                                             overview  \\\n",
       "2   The film tells the story of Ariel, a 21-year-o...   \n",
       "7   High schoolers Mitsuha and Taki are complete s...   \n",
       "10  All unemployed, Ki-taek's family takes peculia...   \n",
       "11  Class 1-A visits Nabu Island where they finall...   \n",
       "15  Two years after the events of \"Change Your Min...   \n",
       "\n",
       "                         poster_path  \n",
       "2   /riAooJrFvVhotyaOgoI0WR7okSe.jpg  \n",
       "7   /q719jXXEzOoYaps6babgKnONONX.jpg  \n",
       "10  /7IiTTgloJzvGI1TAYymCfbfl3vT.jpg  \n",
       "11  /zGVbrulkupqpbwgiNedkJPyQum4.jpg  \n",
       "15  /8mRgpubxHqnqvENK4Bei30xMDvy.jpg  "
      ]
     },
     "execution_count": 55,
     "metadata": {},
     "output_type": "execute_result"
    }
   ],
   "source": [
    "new_movies_df"
   ]
  },
  {
   "cell_type": "code",
   "execution_count": 56,
   "metadata": {},
   "outputs": [],
   "source": [
    "import matplotlib.pyplot as plt \n",
    "%matplotlib inline"
   ]
  },
  {
   "cell_type": "code",
   "execution_count": 1,
   "metadata": {},
   "outputs": [
    {
     "ename": "NameError",
     "evalue": "name 'new_movies_df' is not defined",
     "output_type": "error",
     "traceback": [
      "\u001b[0;31m---------------------------------------------------------------------------\u001b[0m",
      "\u001b[0;31mNameError\u001b[0m                                 Traceback (most recent call last)",
      "\u001b[0;32m<ipython-input-1-50a4f70a89b4>\u001b[0m in \u001b[0;36m<module>\u001b[0;34m()\u001b[0m\n\u001b[0;32m----> 1\u001b[0;31m \u001b[0mY\u001b[0m \u001b[0;34m=\u001b[0m \u001b[0mnew_movies_df\u001b[0m\u001b[0;34m.\u001b[0m\u001b[0mvote_average\u001b[0m\u001b[0;34m\u001b[0m\u001b[0;34m\u001b[0m\u001b[0m\n\u001b[0m\u001b[1;32m      2\u001b[0m \u001b[0mX\u001b[0m \u001b[0;34m=\u001b[0m \u001b[0mnew_movies_df\u001b[0m\u001b[0;34m.\u001b[0m\u001b[0mtitle\u001b[0m\u001b[0;34m\u001b[0m\u001b[0;34m\u001b[0m\u001b[0m\n\u001b[1;32m      3\u001b[0m \u001b[0;34m\u001b[0m\u001b[0m\n\u001b[1;32m      4\u001b[0m \u001b[0mfig\u001b[0m\u001b[0;34m,\u001b[0m \u001b[0max\u001b[0m \u001b[0;34m=\u001b[0m \u001b[0mplt\u001b[0m\u001b[0;34m.\u001b[0m\u001b[0msubplots\u001b[0m\u001b[0;34m(\u001b[0m\u001b[0;34m)\u001b[0m\u001b[0;34m\u001b[0m\u001b[0;34m\u001b[0m\u001b[0m\n\u001b[1;32m      5\u001b[0m \u001b[0max\u001b[0m\u001b[0;34m.\u001b[0m\u001b[0mscatter\u001b[0m\u001b[0;34m(\u001b[0m\u001b[0mX\u001b[0m\u001b[0;34m,\u001b[0m \u001b[0mY\u001b[0m\u001b[0;34m,\u001b[0m \u001b[0;34m)\u001b[0m\u001b[0;34m;\u001b[0m\u001b[0;34m\u001b[0m\u001b[0;34m\u001b[0m\u001b[0m\n",
      "\u001b[0;31mNameError\u001b[0m: name 'new_movies_df' is not defined"
     ]
    }
   ],
   "source": [
    "Y = new_movies_df.vote_average\n",
    "X = new_movies_df.title\n",
    "\n",
    "fig, ax = plt.subplots()\n",
    "ax.scatter(X, Y, );\n",
    "\n",
    "fig, ax = plt.subplots()\n",
    "ax.bar(x,y, color = 'pink')\n",
    "ax.set_title('average tip amount for time')\n",
    "ax.set_xticks([0,1])\n",
    "ax.set_xticklabels(['lunch','dinner'])"
   ]
  },
  {
   "cell_type": "code",
   "execution_count": 60,
   "metadata": {},
   "outputs": [],
   "source": [
    "api_key =\"69ad870bdcbbf9cc540c7a4e4d400bed\""
   ]
  },
  {
   "cell_type": "code",
   "execution_count": 61,
   "metadata": {},
   "outputs": [
    {
     "ename": "NameError",
     "evalue": "name 'movie_id' is not defined",
     "output_type": "error",
     "traceback": [
      "\u001b[0;31m---------------------------------------------------------------------------\u001b[0m",
      "\u001b[0;31mNameError\u001b[0m                                 Traceback (most recent call last)",
      "\u001b[0;32m<ipython-input-61-7abfbc238fcc>\u001b[0m in \u001b[0;36m<module>\u001b[0;34m()\u001b[0m\n\u001b[0;32m----> 1\u001b[0;31m \u001b[0mresponse2\u001b[0m \u001b[0;34m=\u001b[0m \u001b[0mrequests\u001b[0m\u001b[0;34m.\u001b[0m\u001b[0mget\u001b[0m\u001b[0;34m(\u001b[0m\u001b[0;34mf'https://api.themoviedb.org/3/movie/{movie_id}?api_key={api_key}&language=en-US'\u001b[0m\u001b[0;34m)\u001b[0m\u001b[0;34m\u001b[0m\u001b[0;34m\u001b[0m\u001b[0m\n\u001b[0m",
      "\u001b[0;31mNameError\u001b[0m: name 'movie_id' is not defined"
     ]
    }
   ],
   "source": [
    "response2 = requests.get(f'https://api.themoviedb.org/3/movie/{movie_id}?api_key={api_key}&language=en-US')"
   ]
  },
  {
   "cell_type": "code",
   "execution_count": null,
   "metadata": {},
   "outputs": [],
   "source": []
  }
 ],
 "metadata": {
  "kernelspec": {
   "display_name": "Python 3",
   "language": "python",
   "name": "python3"
  },
  "language_info": {
   "codemirror_mode": {
    "name": "ipython",
    "version": 3
   },
   "file_extension": ".py",
   "mimetype": "text/x-python",
   "name": "python",
   "nbconvert_exporter": "python",
   "pygments_lexer": "ipython3",
   "version": "3.6.9"
  },
  "latex_envs": {
   "LaTeX_envs_menu_present": true,
   "autoclose": false,
   "autocomplete": true,
   "bibliofile": "biblio.bib",
   "cite_by": "apalike",
   "current_citInitial": 1,
   "eqLabelWithNumbers": true,
   "eqNumInitial": 1,
   "hotkeys": {
    "equation": "Ctrl-E",
    "itemize": "Ctrl-I"
   },
   "labels_anchors": false,
   "latex_user_defs": false,
   "report_style_numbering": false,
   "user_envs_cfg": false
  },
  "toc": {
   "base_numbering": 1,
   "nav_menu": {},
   "number_sections": true,
   "sideBar": true,
   "skip_h1_title": false,
   "title_cell": "Table of Contents",
   "title_sidebar": "Contents",
   "toc_cell": false,
   "toc_position": {},
   "toc_section_display": true,
   "toc_window_display": false
  }
 },
 "nbformat": 4,
 "nbformat_minor": 4
}
